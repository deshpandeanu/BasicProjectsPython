{
 "cells": [
  {
   "cell_type": "code",
   "execution_count": 1,
   "id": "896a1da1",
   "metadata": {
    "_cell_guid": "b1076dfc-b9ad-4769-8c92-a6c4dae69d19",
    "_uuid": "8f2839f25d086af736a60e9eeb907d3b93b6e0e5",
    "execution": {
     "iopub.execute_input": "2023-03-06T15:24:34.813725Z",
     "iopub.status.busy": "2023-03-06T15:24:34.812935Z",
     "iopub.status.idle": "2023-03-06T15:24:34.831747Z",
     "shell.execute_reply": "2023-03-06T15:24:34.830781Z"
    },
    "papermill": {
     "duration": 0.034428,
     "end_time": "2023-03-06T15:24:34.835273",
     "exception": false,
     "start_time": "2023-03-06T15:24:34.800845",
     "status": "completed"
    },
    "tags": []
   },
   "outputs": [
    {
     "name": "stdout",
     "output_type": "stream",
     "text": [
      "/kaggle/input/drug-performance-evaluation/Drug.csv\n",
      "/kaggle/input/drug-performance-evaluation/Drug_clean.csv\n"
     ]
    }
   ],
   "source": [
    "# This Python 3 environment comes with many helpful analytics libraries installed\n",
    "# It is defined by the kaggle/python Docker image: https://github.com/kaggle/docker-python\n",
    "# For example, here's several helpful packages to load\n",
    "\n",
    "import numpy as np # linear algebra\n",
    "import pandas as pd # data processing, CSV file I/O (e.g. pd.read_csv)\n",
    "\n",
    "# Input data files are available in the read-only \"../input/\" directory\n",
    "# For example, running this (by clicking run or pressing Shift+Enter) will list all files under the input directory\n",
    "\n",
    "import os\n",
    "for dirname, _, filenames in os.walk('/kaggle/input'):\n",
    "    for filename in filenames:\n",
    "        print(os.path.join(dirname, filename))\n",
    "\n",
    "# You can write up to 20GB to the current directory (/kaggle/working/) that gets preserved as output when you create a version using \"Save & Run All\" \n",
    "# You can also write temporary files to /kaggle/temp/, but they won't be saved outside of the current session"
   ]
  },
  {
   "cell_type": "markdown",
   "id": "bbc71ca8",
   "metadata": {
    "papermill": {
     "duration": 0.008886,
     "end_time": "2023-03-06T15:24:34.854787",
     "exception": false,
     "start_time": "2023-03-06T15:24:34.845901",
     "status": "completed"
    },
    "tags": []
   },
   "source": [
    ">  Importing necessary libs"
   ]
  },
  {
   "cell_type": "code",
   "execution_count": 2,
   "id": "5c7787e3",
   "metadata": {
    "execution": {
     "iopub.execute_input": "2023-03-06T15:24:34.877175Z",
     "iopub.status.busy": "2023-03-06T15:24:34.876165Z",
     "iopub.status.idle": "2023-03-06T15:24:36.152450Z",
     "shell.execute_reply": "2023-03-06T15:24:36.151148Z"
    },
    "papermill": {
     "duration": 1.291162,
     "end_time": "2023-03-06T15:24:36.155375",
     "exception": false,
     "start_time": "2023-03-06T15:24:34.864213",
     "status": "completed"
    },
    "tags": []
   },
   "outputs": [],
   "source": [
    "import matplotlib.pyplot as pyplt\n",
    "import seaborn as sns"
   ]
  },
  {
   "cell_type": "markdown",
   "id": "04716a6c",
   "metadata": {
    "papermill": {
     "duration": 0.008962,
     "end_time": "2023-03-06T15:24:36.173888",
     "exception": false,
     "start_time": "2023-03-06T15:24:36.164926",
     "status": "completed"
    },
    "tags": []
   },
   "source": [
    "> Loading the dataset"
   ]
  },
  {
   "cell_type": "code",
   "execution_count": 3,
   "id": "31984840",
   "metadata": {
    "execution": {
     "iopub.execute_input": "2023-03-06T15:24:36.194290Z",
     "iopub.status.busy": "2023-03-06T15:24:36.193845Z",
     "iopub.status.idle": "2023-03-06T15:24:36.245260Z",
     "shell.execute_reply": "2023-03-06T15:24:36.243949Z"
    },
    "papermill": {
     "duration": 0.064949,
     "end_time": "2023-03-06T15:24:36.248064",
     "exception": false,
     "start_time": "2023-03-06T15:24:36.183115",
     "status": "completed"
    },
    "tags": []
   },
   "outputs": [
    {
     "data": {
      "text/plain": [
       "pandas.core.frame.DataFrame"
      ]
     },
     "execution_count": 3,
     "metadata": {},
     "output_type": "execute_result"
    }
   ],
   "source": [
    "data = pd.read_csv('/kaggle/input/drug-performance-evaluation/Drug.csv')\n",
    "type(data)"
   ]
  },
  {
   "cell_type": "code",
   "execution_count": 4,
   "id": "4a157c8d",
   "metadata": {
    "execution": {
     "iopub.execute_input": "2023-03-06T15:24:36.268626Z",
     "iopub.status.busy": "2023-03-06T15:24:36.268204Z",
     "iopub.status.idle": "2023-03-06T15:24:36.309477Z",
     "shell.execute_reply": "2023-03-06T15:24:36.308030Z"
    },
    "papermill": {
     "duration": 0.054634,
     "end_time": "2023-03-06T15:24:36.312172",
     "exception": false,
     "start_time": "2023-03-06T15:24:36.257538",
     "status": "completed"
    },
    "tags": []
   },
   "outputs": [
    {
     "data": {
      "text/html": [
       "<div>\n",
       "<style scoped>\n",
       "    .dataframe tbody tr th:only-of-type {\n",
       "        vertical-align: middle;\n",
       "    }\n",
       "\n",
       "    .dataframe tbody tr th {\n",
       "        vertical-align: top;\n",
       "    }\n",
       "\n",
       "    .dataframe thead th {\n",
       "        text-align: right;\n",
       "    }\n",
       "</style>\n",
       "<table border=\"1\" class=\"dataframe\">\n",
       "  <thead>\n",
       "    <tr style=\"text-align: right;\">\n",
       "      <th></th>\n",
       "      <th>Condition</th>\n",
       "      <th>Drug</th>\n",
       "      <th>Indication</th>\n",
       "      <th>Type</th>\n",
       "      <th>Reviews</th>\n",
       "      <th>Effective</th>\n",
       "      <th>EaseOfUse</th>\n",
       "      <th>Satisfaction</th>\n",
       "      <th>Information</th>\n",
       "    </tr>\n",
       "  </thead>\n",
       "  <tbody>\n",
       "    <tr>\n",
       "      <th>0</th>\n",
       "      <td>Acute Bacterial Sinusitis</td>\n",
       "      <td>Levofloxacin</td>\n",
       "      <td>On Label</td>\n",
       "      <td>RX</td>\n",
       "      <td>994 Reviews</td>\n",
       "      <td>2.52</td>\n",
       "      <td>3.01</td>\n",
       "      <td>1.84</td>\n",
       "      <td>\\r\\n\\t\\t\\t\\t\\tLevofloxacin is used to treat a ...</td>\n",
       "    </tr>\n",
       "    <tr>\n",
       "      <th>1</th>\n",
       "      <td>Acute Bacterial Sinusitis</td>\n",
       "      <td>Levofloxacin</td>\n",
       "      <td>On Label</td>\n",
       "      <td>RX</td>\n",
       "      <td>994 Reviews</td>\n",
       "      <td>2.52</td>\n",
       "      <td>3.01</td>\n",
       "      <td>1.84</td>\n",
       "      <td>\\r\\n\\t\\t\\t\\t\\tLevofloxacin is used to treat a ...</td>\n",
       "    </tr>\n",
       "    <tr>\n",
       "      <th>2</th>\n",
       "      <td>Acute Bacterial Sinusitis</td>\n",
       "      <td>Moxifloxacin</td>\n",
       "      <td>On Label</td>\n",
       "      <td>RX</td>\n",
       "      <td>755 Reviews</td>\n",
       "      <td>2.78</td>\n",
       "      <td>3.00</td>\n",
       "      <td>2.08</td>\n",
       "      <td>\\r\\n\\t\\t\\t\\t\\t This is a generic drug. The ave...</td>\n",
       "    </tr>\n",
       "    <tr>\n",
       "      <th>3</th>\n",
       "      <td>Acute Bacterial Sinusitis</td>\n",
       "      <td>Azithromycin</td>\n",
       "      <td>On Label</td>\n",
       "      <td>RX</td>\n",
       "      <td>584 Reviews</td>\n",
       "      <td>3.21</td>\n",
       "      <td>4.01</td>\n",
       "      <td>2.57</td>\n",
       "      <td>\\r\\n\\t\\t\\t\\t\\tAzithromycin is an antibiotic (m...</td>\n",
       "    </tr>\n",
       "    <tr>\n",
       "      <th>4</th>\n",
       "      <td>Acute Bacterial Sinusitis</td>\n",
       "      <td>Azithromycin</td>\n",
       "      <td>On Label</td>\n",
       "      <td>RX</td>\n",
       "      <td>584 Reviews</td>\n",
       "      <td>3.21</td>\n",
       "      <td>4.01</td>\n",
       "      <td>2.57</td>\n",
       "      <td>\\r\\n\\t\\t\\t\\t\\tAzithromycin is an antibiotic (m...</td>\n",
       "    </tr>\n",
       "    <tr>\n",
       "      <th>...</th>\n",
       "      <td>...</td>\n",
       "      <td>...</td>\n",
       "      <td>...</td>\n",
       "      <td>...</td>\n",
       "      <td>...</td>\n",
       "      <td>...</td>\n",
       "      <td>...</td>\n",
       "      <td>...</td>\n",
       "      <td>...</td>\n",
       "    </tr>\n",
       "    <tr>\n",
       "      <th>2214</th>\n",
       "      <td>vulvovaginal candidiasis</td>\n",
       "      <td>Clotrimazole</td>\n",
       "      <td>On Label</td>\n",
       "      <td>OTC</td>\n",
       "      <td>2 Reviews</td>\n",
       "      <td>5.00</td>\n",
       "      <td>5.00</td>\n",
       "      <td>5.00</td>\n",
       "      <td>\\r\\n\\t\\t\\t\\t\\tClotrimazole is used to treat sk...</td>\n",
       "    </tr>\n",
       "    <tr>\n",
       "      <th>2215</th>\n",
       "      <td>vulvovaginal candidiasis</td>\n",
       "      <td>Butoconazole Nitrate</td>\n",
       "      <td>On Label</td>\n",
       "      <td>RX</td>\n",
       "      <td>1 Reviews</td>\n",
       "      <td>5.00</td>\n",
       "      <td>5.00</td>\n",
       "      <td>5.00</td>\n",
       "      <td>\\r\\n\\t\\t\\t\\t\\tThis medication is used to treat...</td>\n",
       "    </tr>\n",
       "    <tr>\n",
       "      <th>2216</th>\n",
       "      <td>vulvovaginal candidiasis</td>\n",
       "      <td>Clotrimazole</td>\n",
       "      <td>On Label</td>\n",
       "      <td>OTC</td>\n",
       "      <td>1 Reviews</td>\n",
       "      <td>5.00</td>\n",
       "      <td>4.00</td>\n",
       "      <td>5.00</td>\n",
       "      <td>\\r\\n\\t\\t\\t\\t\\tClotrimazole is used to treat sk...</td>\n",
       "    </tr>\n",
       "    <tr>\n",
       "      <th>2217</th>\n",
       "      <td>vulvovaginal candidiasis</td>\n",
       "      <td>Butoconazole Nitrate</td>\n",
       "      <td>On Label</td>\n",
       "      <td>OTC</td>\n",
       "      <td>1 Reviews</td>\n",
       "      <td>5.00</td>\n",
       "      <td>5.00</td>\n",
       "      <td>5.00</td>\n",
       "      <td>\\r\\n\\t\\t\\t\\t\\tThis medication is used to treat...</td>\n",
       "    </tr>\n",
       "    <tr>\n",
       "      <th>2218</th>\n",
       "      <td>vulvovaginal candidiasis</td>\n",
       "      <td>Miconazole-Skin Clnsr17</td>\n",
       "      <td>On Label</td>\n",
       "      <td>OTC</td>\n",
       "      <td>1 Reviews</td>\n",
       "      <td>1.00</td>\n",
       "      <td>4.00</td>\n",
       "      <td>1.00</td>\n",
       "      <td>\\r\\n\\t\\t\\t\\t\\tThis medication is used to treat...</td>\n",
       "    </tr>\n",
       "  </tbody>\n",
       "</table>\n",
       "<p>2219 rows × 9 columns</p>\n",
       "</div>"
      ],
      "text/plain": [
       "                      Condition                     Drug Indication Type  \\\n",
       "0     Acute Bacterial Sinusitis             Levofloxacin   On Label   RX   \n",
       "1     Acute Bacterial Sinusitis             Levofloxacin   On Label   RX   \n",
       "2     Acute Bacterial Sinusitis             Moxifloxacin   On Label   RX   \n",
       "3     Acute Bacterial Sinusitis             Azithromycin   On Label   RX   \n",
       "4     Acute Bacterial Sinusitis             Azithromycin   On Label   RX   \n",
       "...                         ...                      ...        ...  ...   \n",
       "2214   vulvovaginal candidiasis             Clotrimazole   On Label  OTC   \n",
       "2215   vulvovaginal candidiasis     Butoconazole Nitrate   On Label   RX   \n",
       "2216   vulvovaginal candidiasis             Clotrimazole   On Label  OTC   \n",
       "2217   vulvovaginal candidiasis     Butoconazole Nitrate   On Label  OTC   \n",
       "2218   vulvovaginal candidiasis  Miconazole-Skin Clnsr17   On Label  OTC   \n",
       "\n",
       "          Reviews  Effective  EaseOfUse  Satisfaction  \\\n",
       "0     994 Reviews       2.52       3.01          1.84   \n",
       "1     994 Reviews       2.52       3.01          1.84   \n",
       "2     755 Reviews       2.78       3.00          2.08   \n",
       "3     584 Reviews       3.21       4.01          2.57   \n",
       "4     584 Reviews       3.21       4.01          2.57   \n",
       "...           ...        ...        ...           ...   \n",
       "2214    2 Reviews       5.00       5.00          5.00   \n",
       "2215    1 Reviews       5.00       5.00          5.00   \n",
       "2216    1 Reviews       5.00       4.00          5.00   \n",
       "2217    1 Reviews       5.00       5.00          5.00   \n",
       "2218    1 Reviews       1.00       4.00          1.00   \n",
       "\n",
       "                                            Information  \n",
       "0     \\r\\n\\t\\t\\t\\t\\tLevofloxacin is used to treat a ...  \n",
       "1     \\r\\n\\t\\t\\t\\t\\tLevofloxacin is used to treat a ...  \n",
       "2     \\r\\n\\t\\t\\t\\t\\t This is a generic drug. The ave...  \n",
       "3     \\r\\n\\t\\t\\t\\t\\tAzithromycin is an antibiotic (m...  \n",
       "4     \\r\\n\\t\\t\\t\\t\\tAzithromycin is an antibiotic (m...  \n",
       "...                                                 ...  \n",
       "2214  \\r\\n\\t\\t\\t\\t\\tClotrimazole is used to treat sk...  \n",
       "2215  \\r\\n\\t\\t\\t\\t\\tThis medication is used to treat...  \n",
       "2216  \\r\\n\\t\\t\\t\\t\\tClotrimazole is used to treat sk...  \n",
       "2217  \\r\\n\\t\\t\\t\\t\\tThis medication is used to treat...  \n",
       "2218  \\r\\n\\t\\t\\t\\t\\tThis medication is used to treat...  \n",
       "\n",
       "[2219 rows x 9 columns]"
      ]
     },
     "execution_count": 4,
     "metadata": {},
     "output_type": "execute_result"
    }
   ],
   "source": [
    "data"
   ]
  },
  {
   "cell_type": "code",
   "execution_count": 5,
   "id": "b39baa5c",
   "metadata": {
    "execution": {
     "iopub.execute_input": "2023-03-06T15:24:36.334847Z",
     "iopub.status.busy": "2023-03-06T15:24:36.334075Z",
     "iopub.status.idle": "2023-03-06T15:24:36.342166Z",
     "shell.execute_reply": "2023-03-06T15:24:36.340710Z"
    },
    "papermill": {
     "duration": 0.021789,
     "end_time": "2023-03-06T15:24:36.344744",
     "exception": false,
     "start_time": "2023-03-06T15:24:36.322955",
     "status": "completed"
    },
    "tags": []
   },
   "outputs": [
    {
     "data": {
      "text/plain": [
       "(2219, 9)"
      ]
     },
     "execution_count": 5,
     "metadata": {},
     "output_type": "execute_result"
    }
   ],
   "source": [
    "data.shape"
   ]
  },
  {
   "cell_type": "code",
   "execution_count": 6,
   "id": "3085d960",
   "metadata": {
    "execution": {
     "iopub.execute_input": "2023-03-06T15:24:36.366454Z",
     "iopub.status.busy": "2023-03-06T15:24:36.366033Z",
     "iopub.status.idle": "2023-03-06T15:24:36.377759Z",
     "shell.execute_reply": "2023-03-06T15:24:36.376149Z"
    },
    "papermill": {
     "duration": 0.025885,
     "end_time": "2023-03-06T15:24:36.380607",
     "exception": false,
     "start_time": "2023-03-06T15:24:36.354722",
     "status": "completed"
    },
    "tags": []
   },
   "outputs": [
    {
     "data": {
      "text/plain": [
       "Condition       0\n",
       "Drug            0\n",
       "Indication      0\n",
       "Type            0\n",
       "Reviews         0\n",
       "Effective       0\n",
       "EaseOfUse       0\n",
       "Satisfaction    0\n",
       "Information     0\n",
       "dtype: int64"
      ]
     },
     "execution_count": 6,
     "metadata": {},
     "output_type": "execute_result"
    }
   ],
   "source": [
    "data.isnull().sum()"
   ]
  },
  {
   "cell_type": "markdown",
   "id": "78760ba3",
   "metadata": {
    "papermill": {
     "duration": 0.009626,
     "end_time": "2023-03-06T15:24:36.400786",
     "exception": false,
     "start_time": "2023-03-06T15:24:36.391160",
     "status": "completed"
    },
    "tags": []
   },
   "source": [
    "> No Null values"
   ]
  },
  {
   "cell_type": "code",
   "execution_count": 7,
   "id": "2933afa8",
   "metadata": {
    "execution": {
     "iopub.execute_input": "2023-03-06T15:24:36.422929Z",
     "iopub.status.busy": "2023-03-06T15:24:36.422492Z",
     "iopub.status.idle": "2023-03-06T15:24:36.439932Z",
     "shell.execute_reply": "2023-03-06T15:24:36.438663Z"
    },
    "papermill": {
     "duration": 0.031846,
     "end_time": "2023-03-06T15:24:36.442578",
     "exception": false,
     "start_time": "2023-03-06T15:24:36.410732",
     "status": "completed"
    },
    "tags": []
   },
   "outputs": [
    {
     "data": {
      "text/html": [
       "<div>\n",
       "<style scoped>\n",
       "    .dataframe tbody tr th:only-of-type {\n",
       "        vertical-align: middle;\n",
       "    }\n",
       "\n",
       "    .dataframe tbody tr th {\n",
       "        vertical-align: top;\n",
       "    }\n",
       "\n",
       "    .dataframe thead th {\n",
       "        text-align: right;\n",
       "    }\n",
       "</style>\n",
       "<table border=\"1\" class=\"dataframe\">\n",
       "  <thead>\n",
       "    <tr style=\"text-align: right;\">\n",
       "      <th></th>\n",
       "      <th>Condition</th>\n",
       "      <th>Drug</th>\n",
       "      <th>Indication</th>\n",
       "      <th>Type</th>\n",
       "      <th>Reviews</th>\n",
       "      <th>Effective</th>\n",
       "      <th>EaseOfUse</th>\n",
       "      <th>Satisfaction</th>\n",
       "      <th>Information</th>\n",
       "    </tr>\n",
       "  </thead>\n",
       "  <tbody>\n",
       "    <tr>\n",
       "      <th>0</th>\n",
       "      <td>Acute Bacterial Sinusitis</td>\n",
       "      <td>Levofloxacin</td>\n",
       "      <td>On Label</td>\n",
       "      <td>RX</td>\n",
       "      <td>994 Reviews</td>\n",
       "      <td>2.52</td>\n",
       "      <td>3.01</td>\n",
       "      <td>1.84</td>\n",
       "      <td>\\r\\n\\t\\t\\t\\t\\tLevofloxacin is used to treat a ...</td>\n",
       "    </tr>\n",
       "    <tr>\n",
       "      <th>1</th>\n",
       "      <td>Acute Bacterial Sinusitis</td>\n",
       "      <td>Levofloxacin</td>\n",
       "      <td>On Label</td>\n",
       "      <td>RX</td>\n",
       "      <td>994 Reviews</td>\n",
       "      <td>2.52</td>\n",
       "      <td>3.01</td>\n",
       "      <td>1.84</td>\n",
       "      <td>\\r\\n\\t\\t\\t\\t\\tLevofloxacin is used to treat a ...</td>\n",
       "    </tr>\n",
       "    <tr>\n",
       "      <th>2</th>\n",
       "      <td>Acute Bacterial Sinusitis</td>\n",
       "      <td>Moxifloxacin</td>\n",
       "      <td>On Label</td>\n",
       "      <td>RX</td>\n",
       "      <td>755 Reviews</td>\n",
       "      <td>2.78</td>\n",
       "      <td>3.00</td>\n",
       "      <td>2.08</td>\n",
       "      <td>\\r\\n\\t\\t\\t\\t\\t This is a generic drug. The ave...</td>\n",
       "    </tr>\n",
       "    <tr>\n",
       "      <th>3</th>\n",
       "      <td>Acute Bacterial Sinusitis</td>\n",
       "      <td>Azithromycin</td>\n",
       "      <td>On Label</td>\n",
       "      <td>RX</td>\n",
       "      <td>584 Reviews</td>\n",
       "      <td>3.21</td>\n",
       "      <td>4.01</td>\n",
       "      <td>2.57</td>\n",
       "      <td>\\r\\n\\t\\t\\t\\t\\tAzithromycin is an antibiotic (m...</td>\n",
       "    </tr>\n",
       "    <tr>\n",
       "      <th>4</th>\n",
       "      <td>Acute Bacterial Sinusitis</td>\n",
       "      <td>Azithromycin</td>\n",
       "      <td>On Label</td>\n",
       "      <td>RX</td>\n",
       "      <td>584 Reviews</td>\n",
       "      <td>3.21</td>\n",
       "      <td>4.01</td>\n",
       "      <td>2.57</td>\n",
       "      <td>\\r\\n\\t\\t\\t\\t\\tAzithromycin is an antibiotic (m...</td>\n",
       "    </tr>\n",
       "  </tbody>\n",
       "</table>\n",
       "</div>"
      ],
      "text/plain": [
       "                   Condition          Drug Indication Type      Reviews  \\\n",
       "0  Acute Bacterial Sinusitis  Levofloxacin   On Label   RX  994 Reviews   \n",
       "1  Acute Bacterial Sinusitis  Levofloxacin   On Label   RX  994 Reviews   \n",
       "2  Acute Bacterial Sinusitis  Moxifloxacin   On Label   RX  755 Reviews   \n",
       "3  Acute Bacterial Sinusitis  Azithromycin   On Label   RX  584 Reviews   \n",
       "4  Acute Bacterial Sinusitis  Azithromycin   On Label   RX  584 Reviews   \n",
       "\n",
       "   Effective  EaseOfUse  Satisfaction  \\\n",
       "0       2.52       3.01          1.84   \n",
       "1       2.52       3.01          1.84   \n",
       "2       2.78       3.00          2.08   \n",
       "3       3.21       4.01          2.57   \n",
       "4       3.21       4.01          2.57   \n",
       "\n",
       "                                         Information  \n",
       "0  \\r\\n\\t\\t\\t\\t\\tLevofloxacin is used to treat a ...  \n",
       "1  \\r\\n\\t\\t\\t\\t\\tLevofloxacin is used to treat a ...  \n",
       "2  \\r\\n\\t\\t\\t\\t\\t This is a generic drug. The ave...  \n",
       "3  \\r\\n\\t\\t\\t\\t\\tAzithromycin is an antibiotic (m...  \n",
       "4  \\r\\n\\t\\t\\t\\t\\tAzithromycin is an antibiotic (m...  "
      ]
     },
     "execution_count": 7,
     "metadata": {},
     "output_type": "execute_result"
    }
   ],
   "source": [
    "data.head()"
   ]
  },
  {
   "cell_type": "markdown",
   "id": "2595bd74",
   "metadata": {
    "papermill": {
     "duration": 0.010596,
     "end_time": "2023-03-06T15:24:36.464002",
     "exception": false,
     "start_time": "2023-03-06T15:24:36.453406",
     "status": "completed"
    },
    "tags": []
   },
   "source": [
    "> checking for duplicates"
   ]
  },
  {
   "cell_type": "code",
   "execution_count": 8,
   "id": "15822c8f",
   "metadata": {
    "execution": {
     "iopub.execute_input": "2023-03-06T15:24:36.486375Z",
     "iopub.status.busy": "2023-03-06T15:24:36.485922Z",
     "iopub.status.idle": "2023-03-06T15:24:36.524470Z",
     "shell.execute_reply": "2023-03-06T15:24:36.523019Z"
    },
    "papermill": {
     "duration": 0.052855,
     "end_time": "2023-03-06T15:24:36.527196",
     "exception": false,
     "start_time": "2023-03-06T15:24:36.474341",
     "status": "completed"
    },
    "tags": []
   },
   "outputs": [
    {
     "data": {
      "text/html": [
       "<div>\n",
       "<style scoped>\n",
       "    .dataframe tbody tr th:only-of-type {\n",
       "        vertical-align: middle;\n",
       "    }\n",
       "\n",
       "    .dataframe tbody tr th {\n",
       "        vertical-align: top;\n",
       "    }\n",
       "\n",
       "    .dataframe thead th {\n",
       "        text-align: right;\n",
       "    }\n",
       "</style>\n",
       "<table border=\"1\" class=\"dataframe\">\n",
       "  <thead>\n",
       "    <tr style=\"text-align: right;\">\n",
       "      <th></th>\n",
       "      <th>Condition</th>\n",
       "      <th>Drug</th>\n",
       "      <th>Indication</th>\n",
       "      <th>Type</th>\n",
       "      <th>Reviews</th>\n",
       "      <th>Effective</th>\n",
       "      <th>EaseOfUse</th>\n",
       "      <th>Satisfaction</th>\n",
       "      <th>Information</th>\n",
       "    </tr>\n",
       "  </thead>\n",
       "  <tbody>\n",
       "    <tr>\n",
       "      <th>1</th>\n",
       "      <td>Acute Bacterial Sinusitis</td>\n",
       "      <td>Levofloxacin</td>\n",
       "      <td>On Label</td>\n",
       "      <td>RX</td>\n",
       "      <td>994 Reviews</td>\n",
       "      <td>2.52</td>\n",
       "      <td>3.01</td>\n",
       "      <td>1.84</td>\n",
       "      <td>\\r\\n\\t\\t\\t\\t\\tLevofloxacin is used to treat a ...</td>\n",
       "    </tr>\n",
       "    <tr>\n",
       "      <th>4</th>\n",
       "      <td>Acute Bacterial Sinusitis</td>\n",
       "      <td>Azithromycin</td>\n",
       "      <td>On Label</td>\n",
       "      <td>RX</td>\n",
       "      <td>584 Reviews</td>\n",
       "      <td>3.21</td>\n",
       "      <td>4.01</td>\n",
       "      <td>2.57</td>\n",
       "      <td>\\r\\n\\t\\t\\t\\t\\tAzithromycin is an antibiotic (m...</td>\n",
       "    </tr>\n",
       "    <tr>\n",
       "      <th>5</th>\n",
       "      <td>Acute Bacterial Sinusitis</td>\n",
       "      <td>Azithromycin</td>\n",
       "      <td>On Label</td>\n",
       "      <td>RX</td>\n",
       "      <td>584 Reviews</td>\n",
       "      <td>3.21</td>\n",
       "      <td>4.01</td>\n",
       "      <td>2.57</td>\n",
       "      <td>\\r\\n\\t\\t\\t\\t\\tAzithromycin is an antibiotic (m...</td>\n",
       "    </tr>\n",
       "    <tr>\n",
       "      <th>6</th>\n",
       "      <td>Acute Bacterial Sinusitis</td>\n",
       "      <td>Azithromycin</td>\n",
       "      <td>On Label</td>\n",
       "      <td>RX</td>\n",
       "      <td>584 Reviews</td>\n",
       "      <td>3.21</td>\n",
       "      <td>4.01</td>\n",
       "      <td>2.57</td>\n",
       "      <td>\\r\\n\\t\\t\\t\\t\\tAzithromycin is an antibiotic (m...</td>\n",
       "    </tr>\n",
       "    <tr>\n",
       "      <th>7</th>\n",
       "      <td>Acute Bacterial Sinusitis</td>\n",
       "      <td>Azithromycin</td>\n",
       "      <td>On Label</td>\n",
       "      <td>RX</td>\n",
       "      <td>584 Reviews</td>\n",
       "      <td>3.21</td>\n",
       "      <td>4.01</td>\n",
       "      <td>2.57</td>\n",
       "      <td>\\r\\n\\t\\t\\t\\t\\tAzithromycin is an antibiotic (m...</td>\n",
       "    </tr>\n",
       "    <tr>\n",
       "      <th>...</th>\n",
       "      <td>...</td>\n",
       "      <td>...</td>\n",
       "      <td>...</td>\n",
       "      <td>...</td>\n",
       "      <td>...</td>\n",
       "      <td>...</td>\n",
       "      <td>...</td>\n",
       "      <td>...</td>\n",
       "      <td>...</td>\n",
       "    </tr>\n",
       "    <tr>\n",
       "      <th>2187</th>\n",
       "      <td>vertigo</td>\n",
       "      <td>Diphenhydramine Hcl</td>\n",
       "      <td>On Label</td>\n",
       "      <td>OTC</td>\n",
       "      <td>1 Reviews</td>\n",
       "      <td>5.00</td>\n",
       "      <td>5.00</td>\n",
       "      <td>5.00</td>\n",
       "      <td>\\r\\n\\t\\t\\t\\t\\t This is a generic drug. You can...</td>\n",
       "    </tr>\n",
       "    <tr>\n",
       "      <th>2188</th>\n",
       "      <td>vertigo</td>\n",
       "      <td>Diphenhydramine Hcl</td>\n",
       "      <td>On Label</td>\n",
       "      <td>OTC</td>\n",
       "      <td>1 Reviews</td>\n",
       "      <td>4.00</td>\n",
       "      <td>5.00</td>\n",
       "      <td>3.00</td>\n",
       "      <td>\\r\\n\\t\\t\\t\\t\\t This is a generic drug. You can...</td>\n",
       "    </tr>\n",
       "    <tr>\n",
       "      <th>2189</th>\n",
       "      <td>vertigo</td>\n",
       "      <td>Diphenhydramine Hcl</td>\n",
       "      <td>On Label</td>\n",
       "      <td>OTC</td>\n",
       "      <td>1 Reviews</td>\n",
       "      <td>3.00</td>\n",
       "      <td>4.00</td>\n",
       "      <td>4.00</td>\n",
       "      <td>\\r\\n\\t\\t\\t\\t\\t This is a generic drug. You can...</td>\n",
       "    </tr>\n",
       "    <tr>\n",
       "      <th>2193</th>\n",
       "      <td>vulvovaginal candidiasis</td>\n",
       "      <td>Fluconazole</td>\n",
       "      <td>On Label</td>\n",
       "      <td>RX</td>\n",
       "      <td>225 Reviews</td>\n",
       "      <td>3.32</td>\n",
       "      <td>4.41</td>\n",
       "      <td>2.97</td>\n",
       "      <td>\\r\\n\\t\\t\\t\\t\\tFluconazole is used to treat vag...</td>\n",
       "    </tr>\n",
       "    <tr>\n",
       "      <th>2195</th>\n",
       "      <td>vulvovaginal candidiasis</td>\n",
       "      <td>Fluconazole</td>\n",
       "      <td>On Label</td>\n",
       "      <td>RX</td>\n",
       "      <td>168 Reviews</td>\n",
       "      <td>3.88</td>\n",
       "      <td>4.42</td>\n",
       "      <td>3.47</td>\n",
       "      <td>\\r\\n\\t\\t\\t\\t\\tFluconazole is used to treat vag...</td>\n",
       "    </tr>\n",
       "  </tbody>\n",
       "</table>\n",
       "<p>466 rows × 9 columns</p>\n",
       "</div>"
      ],
      "text/plain": [
       "                      Condition                 Drug Indication Type  \\\n",
       "1     Acute Bacterial Sinusitis         Levofloxacin   On Label   RX   \n",
       "4     Acute Bacterial Sinusitis         Azithromycin   On Label   RX   \n",
       "5     Acute Bacterial Sinusitis         Azithromycin   On Label   RX   \n",
       "6     Acute Bacterial Sinusitis         Azithromycin   On Label   RX   \n",
       "7     Acute Bacterial Sinusitis         Azithromycin   On Label   RX   \n",
       "...                         ...                  ...        ...  ...   \n",
       "2187                    vertigo  Diphenhydramine Hcl   On Label  OTC   \n",
       "2188                    vertigo  Diphenhydramine Hcl   On Label  OTC   \n",
       "2189                    vertigo  Diphenhydramine Hcl   On Label  OTC   \n",
       "2193   vulvovaginal candidiasis          Fluconazole   On Label   RX   \n",
       "2195   vulvovaginal candidiasis          Fluconazole   On Label   RX   \n",
       "\n",
       "          Reviews  Effective  EaseOfUse  Satisfaction  \\\n",
       "1     994 Reviews       2.52       3.01          1.84   \n",
       "4     584 Reviews       3.21       4.01          2.57   \n",
       "5     584 Reviews       3.21       4.01          2.57   \n",
       "6     584 Reviews       3.21       4.01          2.57   \n",
       "7     584 Reviews       3.21       4.01          2.57   \n",
       "...           ...        ...        ...           ...   \n",
       "2187    1 Reviews       5.00       5.00          5.00   \n",
       "2188    1 Reviews       4.00       5.00          3.00   \n",
       "2189    1 Reviews       3.00       4.00          4.00   \n",
       "2193  225 Reviews       3.32       4.41          2.97   \n",
       "2195  168 Reviews       3.88       4.42          3.47   \n",
       "\n",
       "                                            Information  \n",
       "1     \\r\\n\\t\\t\\t\\t\\tLevofloxacin is used to treat a ...  \n",
       "4     \\r\\n\\t\\t\\t\\t\\tAzithromycin is an antibiotic (m...  \n",
       "5     \\r\\n\\t\\t\\t\\t\\tAzithromycin is an antibiotic (m...  \n",
       "6     \\r\\n\\t\\t\\t\\t\\tAzithromycin is an antibiotic (m...  \n",
       "7     \\r\\n\\t\\t\\t\\t\\tAzithromycin is an antibiotic (m...  \n",
       "...                                                 ...  \n",
       "2187  \\r\\n\\t\\t\\t\\t\\t This is a generic drug. You can...  \n",
       "2188  \\r\\n\\t\\t\\t\\t\\t This is a generic drug. You can...  \n",
       "2189  \\r\\n\\t\\t\\t\\t\\t This is a generic drug. You can...  \n",
       "2193  \\r\\n\\t\\t\\t\\t\\tFluconazole is used to treat vag...  \n",
       "2195  \\r\\n\\t\\t\\t\\t\\tFluconazole is used to treat vag...  \n",
       "\n",
       "[466 rows x 9 columns]"
      ]
     },
     "execution_count": 8,
     "metadata": {},
     "output_type": "execute_result"
    }
   ],
   "source": [
    "\n",
    "duplicate = data[data.duplicated()]\n",
    "duplicate"
   ]
  },
  {
   "cell_type": "markdown",
   "id": "e31cd8e2",
   "metadata": {
    "papermill": {
     "duration": 0.010785,
     "end_time": "2023-03-06T15:24:36.548727",
     "exception": false,
     "start_time": "2023-03-06T15:24:36.537942",
     "status": "completed"
    },
    "tags": []
   },
   "source": [
    "> dropping duplicates"
   ]
  },
  {
   "cell_type": "code",
   "execution_count": 9,
   "id": "a4cc0c13",
   "metadata": {
    "execution": {
     "iopub.execute_input": "2023-03-06T15:24:36.572801Z",
     "iopub.status.busy": "2023-03-06T15:24:36.572391Z",
     "iopub.status.idle": "2023-03-06T15:24:36.598039Z",
     "shell.execute_reply": "2023-03-06T15:24:36.596724Z"
    },
    "papermill": {
     "duration": 0.04123,
     "end_time": "2023-03-06T15:24:36.600644",
     "exception": false,
     "start_time": "2023-03-06T15:24:36.559414",
     "status": "completed"
    },
    "tags": []
   },
   "outputs": [
    {
     "data": {
      "text/html": [
       "<div>\n",
       "<style scoped>\n",
       "    .dataframe tbody tr th:only-of-type {\n",
       "        vertical-align: middle;\n",
       "    }\n",
       "\n",
       "    .dataframe tbody tr th {\n",
       "        vertical-align: top;\n",
       "    }\n",
       "\n",
       "    .dataframe thead th {\n",
       "        text-align: right;\n",
       "    }\n",
       "</style>\n",
       "<table border=\"1\" class=\"dataframe\">\n",
       "  <thead>\n",
       "    <tr style=\"text-align: right;\">\n",
       "      <th></th>\n",
       "      <th>Condition</th>\n",
       "      <th>Drug</th>\n",
       "      <th>Indication</th>\n",
       "      <th>Type</th>\n",
       "      <th>Reviews</th>\n",
       "      <th>Effective</th>\n",
       "      <th>EaseOfUse</th>\n",
       "      <th>Satisfaction</th>\n",
       "      <th>Information</th>\n",
       "    </tr>\n",
       "  </thead>\n",
       "  <tbody>\n",
       "    <tr>\n",
       "      <th>40</th>\n",
       "      <td>Acute Bacterial Sinusitis</td>\n",
       "      <td>Moxifloxacin-Sod.Chloride(Iso)</td>\n",
       "      <td>On Label</td>\n",
       "      <td>RX</td>\n",
       "      <td>5 Reviews</td>\n",
       "      <td>2.33</td>\n",
       "      <td>2.33</td>\n",
       "      <td>2.00</td>\n",
       "      <td>\\r\\n\\t\\t\\t\\t\\tThis medication is used to treat...</td>\n",
       "    </tr>\n",
       "    <tr>\n",
       "      <th>73</th>\n",
       "      <td>adenocarcinoma of pancreas</td>\n",
       "      <td>Mitomycin</td>\n",
       "      <td>On Label</td>\n",
       "      <td>RX</td>\n",
       "      <td>4 Reviews</td>\n",
       "      <td>2.50</td>\n",
       "      <td>2.00</td>\n",
       "      <td>2.00</td>\n",
       "      <td>\\r\\n\\t\\t\\t\\t\\tMitomycin is used to treat vario...</td>\n",
       "    </tr>\n",
       "    <tr>\n",
       "      <th>97</th>\n",
       "      <td>Atopic Dermatitis</td>\n",
       "      <td>Pimecrolimus</td>\n",
       "      <td>On Label</td>\n",
       "      <td>RX</td>\n",
       "      <td>79 Reviews</td>\n",
       "      <td>3.26</td>\n",
       "      <td>4.14</td>\n",
       "      <td>3.17</td>\n",
       "      <td>\\r\\n\\t\\t\\t\\t\\t This is a brand name drug and a...</td>\n",
       "    </tr>\n",
       "    <tr>\n",
       "      <th>117</th>\n",
       "      <td>Atopic Dermatitis</td>\n",
       "      <td>Hydrocortisone Butyr-Emollient</td>\n",
       "      <td>On Label</td>\n",
       "      <td>RX</td>\n",
       "      <td>31 Reviews</td>\n",
       "      <td>4.57</td>\n",
       "      <td>4.86</td>\n",
       "      <td>4.43</td>\n",
       "      <td>\\r\\n\\t\\t\\t\\t\\tThis medication is used to treat...</td>\n",
       "    </tr>\n",
       "    <tr>\n",
       "      <th>126</th>\n",
       "      <td>Atopic Dermatitis</td>\n",
       "      <td>Vit E-Grape-Hyaluronate Sodium</td>\n",
       "      <td>On Label</td>\n",
       "      <td>RX</td>\n",
       "      <td>22 Reviews</td>\n",
       "      <td>3.69</td>\n",
       "      <td>4.54</td>\n",
       "      <td>3.77</td>\n",
       "      <td>\\r\\n\\t\\t\\t\\t\\t This is a brand name drug and a...</td>\n",
       "    </tr>\n",
       "    <tr>\n",
       "      <th>...</th>\n",
       "      <td>...</td>\n",
       "      <td>...</td>\n",
       "      <td>...</td>\n",
       "      <td>...</td>\n",
       "      <td>...</td>\n",
       "      <td>...</td>\n",
       "      <td>...</td>\n",
       "      <td>...</td>\n",
       "      <td>...</td>\n",
       "    </tr>\n",
       "    <tr>\n",
       "      <th>2003</th>\n",
       "      <td>Pharyngitis due to Streptococcus Pyogenes</td>\n",
       "      <td>Penicillin G Benzathin,Procain</td>\n",
       "      <td>On Label</td>\n",
       "      <td>RX</td>\n",
       "      <td>5 Reviews</td>\n",
       "      <td>2.67</td>\n",
       "      <td>2.67</td>\n",
       "      <td>2.33</td>\n",
       "      <td>\\r\\n\\t\\t\\t\\t\\t This is a brand name drug and a...</td>\n",
       "    </tr>\n",
       "    <tr>\n",
       "      <th>2078</th>\n",
       "      <td>scabies</td>\n",
       "      <td>Crotamiton</td>\n",
       "      <td>On Label</td>\n",
       "      <td>RX</td>\n",
       "      <td>10 Reviews</td>\n",
       "      <td>4.00</td>\n",
       "      <td>4.33</td>\n",
       "      <td>3.50</td>\n",
       "      <td>\\r\\n\\t\\t\\t\\t\\tThis medication is used to treat...</td>\n",
       "    </tr>\n",
       "    <tr>\n",
       "      <th>2105</th>\n",
       "      <td>sore throat</td>\n",
       "      <td>DM-Benzocaine-Menthol</td>\n",
       "      <td>On Label</td>\n",
       "      <td>OTC</td>\n",
       "      <td>1 Reviews</td>\n",
       "      <td>1.00</td>\n",
       "      <td>1.00</td>\n",
       "      <td>1.00</td>\n",
       "      <td>\\r\\n\\t\\t\\t\\t\\t This is a brand name drug and a...</td>\n",
       "    </tr>\n",
       "    <tr>\n",
       "      <th>2117</th>\n",
       "      <td>vertigo</td>\n",
       "      <td>Diphenhydramine Citrate</td>\n",
       "      <td>On Label</td>\n",
       "      <td>OTC</td>\n",
       "      <td>17 Reviews</td>\n",
       "      <td>4.30</td>\n",
       "      <td>4.60</td>\n",
       "      <td>4.10</td>\n",
       "      <td>\\r\\n\\t\\t\\t\\t\\t This is a generic drug. You can...</td>\n",
       "    </tr>\n",
       "    <tr>\n",
       "      <th>2126</th>\n",
       "      <td>vertigo</td>\n",
       "      <td>Diphenhydramine Hcl, Diphenhydramine Citrate</td>\n",
       "      <td>On Label</td>\n",
       "      <td>OTC</td>\n",
       "      <td>6 Reviews</td>\n",
       "      <td>3.50</td>\n",
       "      <td>4.00</td>\n",
       "      <td>3.50</td>\n",
       "      <td>\\r\\n\\t\\t\\t\\t\\t This is a generic drug. You can...</td>\n",
       "    </tr>\n",
       "  </tbody>\n",
       "</table>\n",
       "<p>108 rows × 9 columns</p>\n",
       "</div>"
      ],
      "text/plain": [
       "                                      Condition  \\\n",
       "40                    Acute Bacterial Sinusitis   \n",
       "73                   adenocarcinoma of pancreas   \n",
       "97                            Atopic Dermatitis   \n",
       "117                           Atopic Dermatitis   \n",
       "126                           Atopic Dermatitis   \n",
       "...                                         ...   \n",
       "2003  Pharyngitis due to Streptococcus Pyogenes   \n",
       "2078                                    scabies   \n",
       "2105                                sore throat   \n",
       "2117                                    vertigo   \n",
       "2126                                    vertigo   \n",
       "\n",
       "                                              Drug Indication Type  \\\n",
       "40                  Moxifloxacin-Sod.Chloride(Iso)   On Label   RX   \n",
       "73                                       Mitomycin   On Label   RX   \n",
       "97                                    Pimecrolimus   On Label   RX   \n",
       "117                 Hydrocortisone Butyr-Emollient   On Label   RX   \n",
       "126                 Vit E-Grape-Hyaluronate Sodium   On Label   RX   \n",
       "...                                            ...        ...  ...   \n",
       "2003                Penicillin G Benzathin,Procain   On Label   RX   \n",
       "2078                                    Crotamiton   On Label   RX   \n",
       "2105                         DM-Benzocaine-Menthol   On Label  OTC   \n",
       "2117                       Diphenhydramine Citrate   On Label  OTC   \n",
       "2126  Diphenhydramine Hcl, Diphenhydramine Citrate   On Label  OTC   \n",
       "\n",
       "         Reviews  Effective  EaseOfUse  Satisfaction  \\\n",
       "40     5 Reviews       2.33       2.33          2.00   \n",
       "73     4 Reviews       2.50       2.00          2.00   \n",
       "97    79 Reviews       3.26       4.14          3.17   \n",
       "117   31 Reviews       4.57       4.86          4.43   \n",
       "126   22 Reviews       3.69       4.54          3.77   \n",
       "...          ...        ...        ...           ...   \n",
       "2003   5 Reviews       2.67       2.67          2.33   \n",
       "2078  10 Reviews       4.00       4.33          3.50   \n",
       "2105   1 Reviews       1.00       1.00          1.00   \n",
       "2117  17 Reviews       4.30       4.60          4.10   \n",
       "2126   6 Reviews       3.50       4.00          3.50   \n",
       "\n",
       "                                            Information  \n",
       "40    \\r\\n\\t\\t\\t\\t\\tThis medication is used to treat...  \n",
       "73    \\r\\n\\t\\t\\t\\t\\tMitomycin is used to treat vario...  \n",
       "97    \\r\\n\\t\\t\\t\\t\\t This is a brand name drug and a...  \n",
       "117   \\r\\n\\t\\t\\t\\t\\tThis medication is used to treat...  \n",
       "126   \\r\\n\\t\\t\\t\\t\\t This is a brand name drug and a...  \n",
       "...                                                 ...  \n",
       "2003  \\r\\n\\t\\t\\t\\t\\t This is a brand name drug and a...  \n",
       "2078  \\r\\n\\t\\t\\t\\t\\tThis medication is used to treat...  \n",
       "2105  \\r\\n\\t\\t\\t\\t\\t This is a brand name drug and a...  \n",
       "2117  \\r\\n\\t\\t\\t\\t\\t This is a generic drug. You can...  \n",
       "2126  \\r\\n\\t\\t\\t\\t\\t This is a generic drug. You can...  \n",
       "\n",
       "[108 rows x 9 columns]"
      ]
     },
     "execution_count": 9,
     "metadata": {},
     "output_type": "execute_result"
    }
   ],
   "source": [
    "data.drop_duplicates(subset=\"Drug\",\n",
    "                     keep=False, inplace=True)\n",
    "data"
   ]
  },
  {
   "cell_type": "markdown",
   "id": "833af69b",
   "metadata": {
    "papermill": {
     "duration": 0.01085,
     "end_time": "2023-03-06T15:24:36.623164",
     "exception": false,
     "start_time": "2023-03-06T15:24:36.612314",
     "status": "completed"
    },
    "tags": []
   },
   "source": [
    "* As we can see here the data shape has significantly reduced after we dropped down the duplicates"
   ]
  },
  {
   "cell_type": "markdown",
   "id": "a721bbec",
   "metadata": {
    "papermill": {
     "duration": 0.010578,
     "end_time": "2023-03-06T15:24:36.644674",
     "exception": false,
     "start_time": "2023-03-06T15:24:36.634096",
     "status": "completed"
    },
    "tags": []
   },
   "source": [
    "> Cleaning Data to make it workable with\n",
    "*        Here the column ****Reviews**** is of type string and values are alphanumeric, which isn't ideal to work with when it comes to performing statistics. Hence we extract the numerical values from the column and make a new column to work with"
   ]
  },
  {
   "cell_type": "code",
   "execution_count": 10,
   "id": "5abe6cec",
   "metadata": {
    "execution": {
     "iopub.execute_input": "2023-03-06T15:24:36.669250Z",
     "iopub.status.busy": "2023-03-06T15:24:36.668765Z",
     "iopub.status.idle": "2023-03-06T15:24:36.692520Z",
     "shell.execute_reply": "2023-03-06T15:24:36.691151Z"
    },
    "papermill": {
     "duration": 0.039341,
     "end_time": "2023-03-06T15:24:36.695268",
     "exception": false,
     "start_time": "2023-03-06T15:24:36.655927",
     "status": "completed"
    },
    "tags": []
   },
   "outputs": [
    {
     "data": {
      "text/html": [
       "<div>\n",
       "<style scoped>\n",
       "    .dataframe tbody tr th:only-of-type {\n",
       "        vertical-align: middle;\n",
       "    }\n",
       "\n",
       "    .dataframe tbody tr th {\n",
       "        vertical-align: top;\n",
       "    }\n",
       "\n",
       "    .dataframe thead th {\n",
       "        text-align: right;\n",
       "    }\n",
       "</style>\n",
       "<table border=\"1\" class=\"dataframe\">\n",
       "  <thead>\n",
       "    <tr style=\"text-align: right;\">\n",
       "      <th></th>\n",
       "      <th>Condition</th>\n",
       "      <th>Drug</th>\n",
       "      <th>Indication</th>\n",
       "      <th>Type</th>\n",
       "      <th>Reviews</th>\n",
       "      <th>Effective</th>\n",
       "      <th>EaseOfUse</th>\n",
       "      <th>Satisfaction</th>\n",
       "      <th>Information</th>\n",
       "      <th>NoOfReviews</th>\n",
       "    </tr>\n",
       "  </thead>\n",
       "  <tbody>\n",
       "    <tr>\n",
       "      <th>40</th>\n",
       "      <td>Acute Bacterial Sinusitis</td>\n",
       "      <td>Moxifloxacin-Sod.Chloride(Iso)</td>\n",
       "      <td>On Label</td>\n",
       "      <td>RX</td>\n",
       "      <td>5 Reviews</td>\n",
       "      <td>2.33</td>\n",
       "      <td>2.33</td>\n",
       "      <td>2.00</td>\n",
       "      <td>\\r\\n\\t\\t\\t\\t\\tThis medication is used to treat...</td>\n",
       "      <td>5</td>\n",
       "    </tr>\n",
       "    <tr>\n",
       "      <th>73</th>\n",
       "      <td>adenocarcinoma of pancreas</td>\n",
       "      <td>Mitomycin</td>\n",
       "      <td>On Label</td>\n",
       "      <td>RX</td>\n",
       "      <td>4 Reviews</td>\n",
       "      <td>2.50</td>\n",
       "      <td>2.00</td>\n",
       "      <td>2.00</td>\n",
       "      <td>\\r\\n\\t\\t\\t\\t\\tMitomycin is used to treat vario...</td>\n",
       "      <td>4</td>\n",
       "    </tr>\n",
       "    <tr>\n",
       "      <th>97</th>\n",
       "      <td>Atopic Dermatitis</td>\n",
       "      <td>Pimecrolimus</td>\n",
       "      <td>On Label</td>\n",
       "      <td>RX</td>\n",
       "      <td>79 Reviews</td>\n",
       "      <td>3.26</td>\n",
       "      <td>4.14</td>\n",
       "      <td>3.17</td>\n",
       "      <td>\\r\\n\\t\\t\\t\\t\\t This is a brand name drug and a...</td>\n",
       "      <td>79</td>\n",
       "    </tr>\n",
       "    <tr>\n",
       "      <th>117</th>\n",
       "      <td>Atopic Dermatitis</td>\n",
       "      <td>Hydrocortisone Butyr-Emollient</td>\n",
       "      <td>On Label</td>\n",
       "      <td>RX</td>\n",
       "      <td>31 Reviews</td>\n",
       "      <td>4.57</td>\n",
       "      <td>4.86</td>\n",
       "      <td>4.43</td>\n",
       "      <td>\\r\\n\\t\\t\\t\\t\\tThis medication is used to treat...</td>\n",
       "      <td>31</td>\n",
       "    </tr>\n",
       "    <tr>\n",
       "      <th>126</th>\n",
       "      <td>Atopic Dermatitis</td>\n",
       "      <td>Vit E-Grape-Hyaluronate Sodium</td>\n",
       "      <td>On Label</td>\n",
       "      <td>RX</td>\n",
       "      <td>22 Reviews</td>\n",
       "      <td>3.69</td>\n",
       "      <td>4.54</td>\n",
       "      <td>3.77</td>\n",
       "      <td>\\r\\n\\t\\t\\t\\t\\t This is a brand name drug and a...</td>\n",
       "      <td>22</td>\n",
       "    </tr>\n",
       "    <tr>\n",
       "      <th>128</th>\n",
       "      <td>Atopic Dermatitis</td>\n",
       "      <td>Cortisone</td>\n",
       "      <td>On Label</td>\n",
       "      <td>RX</td>\n",
       "      <td>20 Reviews</td>\n",
       "      <td>4.60</td>\n",
       "      <td>4.20</td>\n",
       "      <td>3.20</td>\n",
       "      <td>\\r\\n\\t\\t\\t\\t\\tCortisone is a corticosteroid ho...</td>\n",
       "      <td>20</td>\n",
       "    </tr>\n",
       "    <tr>\n",
       "      <th>141</th>\n",
       "      <td>Atopic Dermatitis</td>\n",
       "      <td>Hydrocortisone-Iodoquinl-Aloe2</td>\n",
       "      <td>\\r\\n</td>\n",
       "      <td>RX</td>\n",
       "      <td>14 Reviews</td>\n",
       "      <td>3.00</td>\n",
       "      <td>3.00</td>\n",
       "      <td>3.00</td>\n",
       "      <td>\\r\\n\\t\\t\\t\\t\\t This is a generic drug. The ave...</td>\n",
       "      <td>14</td>\n",
       "    </tr>\n",
       "    <tr>\n",
       "      <th>187</th>\n",
       "      <td>Atopic Dermatitis</td>\n",
       "      <td>Hydrocortisone, Pramoxine-Benzyl Alcohol</td>\n",
       "      <td>On Label</td>\n",
       "      <td>OTC</td>\n",
       "      <td>5 Reviews</td>\n",
       "      <td>5.00</td>\n",
       "      <td>5.00</td>\n",
       "      <td>5.00</td>\n",
       "      <td>\\r\\n\\t\\t\\t\\t\\tThis medication is used to treat...</td>\n",
       "      <td>5</td>\n",
       "    </tr>\n",
       "    <tr>\n",
       "      <th>203</th>\n",
       "      <td>Atopic Dermatitis</td>\n",
       "      <td>Vit E-Glycerin-Dimethicone, Glycerin-Dimethico...</td>\n",
       "      <td>On Label</td>\n",
       "      <td>\\r\\n</td>\n",
       "      <td>3 Reviews</td>\n",
       "      <td>2.00</td>\n",
       "      <td>3.00</td>\n",
       "      <td>2.50</td>\n",
       "      <td>\\r\\n\\t\\t\\t\\t\\t This is a brand name drug and a...</td>\n",
       "      <td>3</td>\n",
       "    </tr>\n",
       "    <tr>\n",
       "      <th>217</th>\n",
       "      <td>Atopic Dermatitis</td>\n",
       "      <td>Hydrocortisone Probutate</td>\n",
       "      <td>On Label</td>\n",
       "      <td>RX</td>\n",
       "      <td>2 Reviews</td>\n",
       "      <td>1.00</td>\n",
       "      <td>1.00</td>\n",
       "      <td>1.00</td>\n",
       "      <td>\\r\\n\\t\\t\\t\\t\\tThis medication is used to treat...</td>\n",
       "      <td>2</td>\n",
       "    </tr>\n",
       "  </tbody>\n",
       "</table>\n",
       "</div>"
      ],
      "text/plain": [
       "                      Condition  \\\n",
       "40    Acute Bacterial Sinusitis   \n",
       "73   adenocarcinoma of pancreas   \n",
       "97            Atopic Dermatitis   \n",
       "117           Atopic Dermatitis   \n",
       "126           Atopic Dermatitis   \n",
       "128           Atopic Dermatitis   \n",
       "141           Atopic Dermatitis   \n",
       "187           Atopic Dermatitis   \n",
       "203           Atopic Dermatitis   \n",
       "217           Atopic Dermatitis   \n",
       "\n",
       "                                                  Drug Indication  Type  \\\n",
       "40                      Moxifloxacin-Sod.Chloride(Iso)   On Label    RX   \n",
       "73                                           Mitomycin   On Label    RX   \n",
       "97                                        Pimecrolimus   On Label    RX   \n",
       "117                     Hydrocortisone Butyr-Emollient   On Label    RX   \n",
       "126                     Vit E-Grape-Hyaluronate Sodium   On Label    RX   \n",
       "128                                          Cortisone   On Label    RX   \n",
       "141                     Hydrocortisone-Iodoquinl-Aloe2       \\r\\n    RX   \n",
       "187           Hydrocortisone, Pramoxine-Benzyl Alcohol   On Label   OTC   \n",
       "203  Vit E-Glycerin-Dimethicone, Glycerin-Dimethico...   On Label  \\r\\n   \n",
       "217                           Hydrocortisone Probutate   On Label    RX   \n",
       "\n",
       "        Reviews  Effective  EaseOfUse  Satisfaction  \\\n",
       "40    5 Reviews       2.33       2.33          2.00   \n",
       "73    4 Reviews       2.50       2.00          2.00   \n",
       "97   79 Reviews       3.26       4.14          3.17   \n",
       "117  31 Reviews       4.57       4.86          4.43   \n",
       "126  22 Reviews       3.69       4.54          3.77   \n",
       "128  20 Reviews       4.60       4.20          3.20   \n",
       "141  14 Reviews       3.00       3.00          3.00   \n",
       "187   5 Reviews       5.00       5.00          5.00   \n",
       "203   3 Reviews       2.00       3.00          2.50   \n",
       "217   2 Reviews       1.00       1.00          1.00   \n",
       "\n",
       "                                           Information NoOfReviews  \n",
       "40   \\r\\n\\t\\t\\t\\t\\tThis medication is used to treat...           5  \n",
       "73   \\r\\n\\t\\t\\t\\t\\tMitomycin is used to treat vario...           4  \n",
       "97   \\r\\n\\t\\t\\t\\t\\t This is a brand name drug and a...          79  \n",
       "117  \\r\\n\\t\\t\\t\\t\\tThis medication is used to treat...          31  \n",
       "126  \\r\\n\\t\\t\\t\\t\\t This is a brand name drug and a...          22  \n",
       "128  \\r\\n\\t\\t\\t\\t\\tCortisone is a corticosteroid ho...          20  \n",
       "141  \\r\\n\\t\\t\\t\\t\\t This is a generic drug. The ave...          14  \n",
       "187  \\r\\n\\t\\t\\t\\t\\tThis medication is used to treat...           5  \n",
       "203  \\r\\n\\t\\t\\t\\t\\t This is a brand name drug and a...           3  \n",
       "217  \\r\\n\\t\\t\\t\\t\\tThis medication is used to treat...           2  "
      ]
     },
     "execution_count": 10,
     "metadata": {},
     "output_type": "execute_result"
    }
   ],
   "source": [
    "data['NoOfReviews']=data.Reviews.str.extract('(\\d+)')\n",
    "data.head(10)"
   ]
  },
  {
   "cell_type": "markdown",
   "id": "d89943e9",
   "metadata": {
    "papermill": {
     "duration": 0.011462,
     "end_time": "2023-03-06T15:24:36.718368",
     "exception": false,
     "start_time": "2023-03-06T15:24:36.706906",
     "status": "completed"
    },
    "tags": []
   },
   "source": [
    "# Dropping the data that is not significant to work with \n",
    "* The descriptive information about the drug is of not significant use in this analysis process hence we drop that column to make our lighter to work with "
   ]
  },
  {
   "cell_type": "code",
   "execution_count": 11,
   "id": "81fb4009",
   "metadata": {
    "execution": {
     "iopub.execute_input": "2023-03-06T15:24:36.743684Z",
     "iopub.status.busy": "2023-03-06T15:24:36.743272Z",
     "iopub.status.idle": "2023-03-06T15:24:36.750632Z",
     "shell.execute_reply": "2023-03-06T15:24:36.749543Z"
    },
    "papermill": {
     "duration": 0.023543,
     "end_time": "2023-03-06T15:24:36.753259",
     "exception": false,
     "start_time": "2023-03-06T15:24:36.729716",
     "status": "completed"
    },
    "tags": []
   },
   "outputs": [],
   "source": [
    "data.drop(columns=[\"Information\",\"Reviews\"],inplace =True)"
   ]
  },
  {
   "cell_type": "code",
   "execution_count": 12,
   "id": "3022ce50",
   "metadata": {
    "execution": {
     "iopub.execute_input": "2023-03-06T15:24:36.779132Z",
     "iopub.status.busy": "2023-03-06T15:24:36.778568Z",
     "iopub.status.idle": "2023-03-06T15:24:36.785998Z",
     "shell.execute_reply": "2023-03-06T15:24:36.784582Z"
    },
    "papermill": {
     "duration": 0.023603,
     "end_time": "2023-03-06T15:24:36.789149",
     "exception": false,
     "start_time": "2023-03-06T15:24:36.765546",
     "status": "completed"
    },
    "tags": []
   },
   "outputs": [],
   "source": [
    "data.drop(columns='Indication',inplace=True)"
   ]
  },
  {
   "cell_type": "code",
   "execution_count": 13,
   "id": "5d26289f",
   "metadata": {
    "execution": {
     "iopub.execute_input": "2023-03-06T15:24:36.814715Z",
     "iopub.status.busy": "2023-03-06T15:24:36.814282Z",
     "iopub.status.idle": "2023-03-06T15:24:36.836116Z",
     "shell.execute_reply": "2023-03-06T15:24:36.834661Z"
    },
    "papermill": {
     "duration": 0.037487,
     "end_time": "2023-03-06T15:24:36.838836",
     "exception": false,
     "start_time": "2023-03-06T15:24:36.801349",
     "status": "completed"
    },
    "tags": []
   },
   "outputs": [
    {
     "data": {
      "text/html": [
       "<div>\n",
       "<style scoped>\n",
       "    .dataframe tbody tr th:only-of-type {\n",
       "        vertical-align: middle;\n",
       "    }\n",
       "\n",
       "    .dataframe tbody tr th {\n",
       "        vertical-align: top;\n",
       "    }\n",
       "\n",
       "    .dataframe thead th {\n",
       "        text-align: right;\n",
       "    }\n",
       "</style>\n",
       "<table border=\"1\" class=\"dataframe\">\n",
       "  <thead>\n",
       "    <tr style=\"text-align: right;\">\n",
       "      <th></th>\n",
       "      <th>Condition</th>\n",
       "      <th>Drug</th>\n",
       "      <th>Type</th>\n",
       "      <th>Effective</th>\n",
       "      <th>EaseOfUse</th>\n",
       "      <th>Satisfaction</th>\n",
       "      <th>NoOfReviews</th>\n",
       "    </tr>\n",
       "  </thead>\n",
       "  <tbody>\n",
       "    <tr>\n",
       "      <th>40</th>\n",
       "      <td>Acute Bacterial Sinusitis</td>\n",
       "      <td>Moxifloxacin-Sod.Chloride(Iso)</td>\n",
       "      <td>RX</td>\n",
       "      <td>2.33</td>\n",
       "      <td>2.33</td>\n",
       "      <td>2.00</td>\n",
       "      <td>5</td>\n",
       "    </tr>\n",
       "    <tr>\n",
       "      <th>73</th>\n",
       "      <td>adenocarcinoma of pancreas</td>\n",
       "      <td>Mitomycin</td>\n",
       "      <td>RX</td>\n",
       "      <td>2.50</td>\n",
       "      <td>2.00</td>\n",
       "      <td>2.00</td>\n",
       "      <td>4</td>\n",
       "    </tr>\n",
       "    <tr>\n",
       "      <th>97</th>\n",
       "      <td>Atopic Dermatitis</td>\n",
       "      <td>Pimecrolimus</td>\n",
       "      <td>RX</td>\n",
       "      <td>3.26</td>\n",
       "      <td>4.14</td>\n",
       "      <td>3.17</td>\n",
       "      <td>79</td>\n",
       "    </tr>\n",
       "    <tr>\n",
       "      <th>117</th>\n",
       "      <td>Atopic Dermatitis</td>\n",
       "      <td>Hydrocortisone Butyr-Emollient</td>\n",
       "      <td>RX</td>\n",
       "      <td>4.57</td>\n",
       "      <td>4.86</td>\n",
       "      <td>4.43</td>\n",
       "      <td>31</td>\n",
       "    </tr>\n",
       "    <tr>\n",
       "      <th>126</th>\n",
       "      <td>Atopic Dermatitis</td>\n",
       "      <td>Vit E-Grape-Hyaluronate Sodium</td>\n",
       "      <td>RX</td>\n",
       "      <td>3.69</td>\n",
       "      <td>4.54</td>\n",
       "      <td>3.77</td>\n",
       "      <td>22</td>\n",
       "    </tr>\n",
       "    <tr>\n",
       "      <th>...</th>\n",
       "      <td>...</td>\n",
       "      <td>...</td>\n",
       "      <td>...</td>\n",
       "      <td>...</td>\n",
       "      <td>...</td>\n",
       "      <td>...</td>\n",
       "      <td>...</td>\n",
       "    </tr>\n",
       "    <tr>\n",
       "      <th>2003</th>\n",
       "      <td>Pharyngitis due to Streptococcus Pyogenes</td>\n",
       "      <td>Penicillin G Benzathin,Procain</td>\n",
       "      <td>RX</td>\n",
       "      <td>2.67</td>\n",
       "      <td>2.67</td>\n",
       "      <td>2.33</td>\n",
       "      <td>5</td>\n",
       "    </tr>\n",
       "    <tr>\n",
       "      <th>2078</th>\n",
       "      <td>scabies</td>\n",
       "      <td>Crotamiton</td>\n",
       "      <td>RX</td>\n",
       "      <td>4.00</td>\n",
       "      <td>4.33</td>\n",
       "      <td>3.50</td>\n",
       "      <td>10</td>\n",
       "    </tr>\n",
       "    <tr>\n",
       "      <th>2105</th>\n",
       "      <td>sore throat</td>\n",
       "      <td>DM-Benzocaine-Menthol</td>\n",
       "      <td>OTC</td>\n",
       "      <td>1.00</td>\n",
       "      <td>1.00</td>\n",
       "      <td>1.00</td>\n",
       "      <td>1</td>\n",
       "    </tr>\n",
       "    <tr>\n",
       "      <th>2117</th>\n",
       "      <td>vertigo</td>\n",
       "      <td>Diphenhydramine Citrate</td>\n",
       "      <td>OTC</td>\n",
       "      <td>4.30</td>\n",
       "      <td>4.60</td>\n",
       "      <td>4.10</td>\n",
       "      <td>17</td>\n",
       "    </tr>\n",
       "    <tr>\n",
       "      <th>2126</th>\n",
       "      <td>vertigo</td>\n",
       "      <td>Diphenhydramine Hcl, Diphenhydramine Citrate</td>\n",
       "      <td>OTC</td>\n",
       "      <td>3.50</td>\n",
       "      <td>4.00</td>\n",
       "      <td>3.50</td>\n",
       "      <td>6</td>\n",
       "    </tr>\n",
       "  </tbody>\n",
       "</table>\n",
       "<p>108 rows × 7 columns</p>\n",
       "</div>"
      ],
      "text/plain": [
       "                                      Condition  \\\n",
       "40                    Acute Bacterial Sinusitis   \n",
       "73                   adenocarcinoma of pancreas   \n",
       "97                            Atopic Dermatitis   \n",
       "117                           Atopic Dermatitis   \n",
       "126                           Atopic Dermatitis   \n",
       "...                                         ...   \n",
       "2003  Pharyngitis due to Streptococcus Pyogenes   \n",
       "2078                                    scabies   \n",
       "2105                                sore throat   \n",
       "2117                                    vertigo   \n",
       "2126                                    vertigo   \n",
       "\n",
       "                                              Drug Type  Effective  EaseOfUse  \\\n",
       "40                  Moxifloxacin-Sod.Chloride(Iso)   RX       2.33       2.33   \n",
       "73                                       Mitomycin   RX       2.50       2.00   \n",
       "97                                    Pimecrolimus   RX       3.26       4.14   \n",
       "117                 Hydrocortisone Butyr-Emollient   RX       4.57       4.86   \n",
       "126                 Vit E-Grape-Hyaluronate Sodium   RX       3.69       4.54   \n",
       "...                                            ...  ...        ...        ...   \n",
       "2003                Penicillin G Benzathin,Procain   RX       2.67       2.67   \n",
       "2078                                    Crotamiton   RX       4.00       4.33   \n",
       "2105                         DM-Benzocaine-Menthol  OTC       1.00       1.00   \n",
       "2117                       Diphenhydramine Citrate  OTC       4.30       4.60   \n",
       "2126  Diphenhydramine Hcl, Diphenhydramine Citrate  OTC       3.50       4.00   \n",
       "\n",
       "      Satisfaction NoOfReviews  \n",
       "40            2.00           5  \n",
       "73            2.00           4  \n",
       "97            3.17          79  \n",
       "117           4.43          31  \n",
       "126           3.77          22  \n",
       "...            ...         ...  \n",
       "2003          2.33           5  \n",
       "2078          3.50          10  \n",
       "2105          1.00           1  \n",
       "2117          4.10          17  \n",
       "2126          3.50           6  \n",
       "\n",
       "[108 rows x 7 columns]"
      ]
     },
     "execution_count": 13,
     "metadata": {},
     "output_type": "execute_result"
    }
   ],
   "source": [
    "data"
   ]
  },
  {
   "cell_type": "markdown",
   "id": "415d1bd0",
   "metadata": {
    "papermill": {
     "duration": 0.01169,
     "end_time": "2023-03-06T15:24:36.862290",
     "exception": false,
     "start_time": "2023-03-06T15:24:36.850600",
     "status": "completed"
    },
    "tags": []
   },
   "source": [
    "# Univariate analysis"
   ]
  },
  {
   "cell_type": "markdown",
   "id": "e68fbd82",
   "metadata": {
    "papermill": {
     "duration": 0.011996,
     "end_time": "2023-03-06T15:24:36.887255",
     "exception": false,
     "start_time": "2023-03-06T15:24:36.875259",
     "status": "completed"
    },
    "tags": []
   },
   "source": [
    "> How many drugs are of type RX or OTC?"
   ]
  },
  {
   "cell_type": "code",
   "execution_count": 14,
   "id": "67818530",
   "metadata": {
    "execution": {
     "iopub.execute_input": "2023-03-06T15:24:36.914589Z",
     "iopub.status.busy": "2023-03-06T15:24:36.913811Z",
     "iopub.status.idle": "2023-03-06T15:24:37.173989Z",
     "shell.execute_reply": "2023-03-06T15:24:37.171938Z"
    },
    "papermill": {
     "duration": 0.276926,
     "end_time": "2023-03-06T15:24:37.177119",
     "exception": false,
     "start_time": "2023-03-06T15:24:36.900193",
     "status": "completed"
    },
    "tags": []
   },
   "outputs": [
    {
     "name": "stderr",
     "output_type": "stream",
     "text": [
      ") missing from current font.\n",
      "  fig.canvas.print_figure(bytes_io, **kw)\n"
     ]
    },
    {
     "data": {
      "image/png": "[encoded data removed]",
      "text/plain": [
       "<Figure size 640x480 with 1 Axes>"
      ]
     },
     "metadata": {},
     "output_type": "display_data"
    }
   ],
   "source": [
    "\n",
    "\n",
    "# data.Type.value_counts(normalize=True)\n",
    "data.Type.value_counts(normalize=True).plot.barh()\n",
    "pyplt.show()"
   ]
  },
  {
   "cell_type": "markdown",
   "id": "a82adca8",
   "metadata": {
    "papermill": {
     "duration": 0.011576,
     "end_time": "2023-03-06T15:24:37.200767",
     "exception": false,
     "start_time": "2023-03-06T15:24:37.189191",
     "status": "completed"
    },
    "tags": []
   },
   "source": [
    "> How is the drug distribution based on the condition being treated?"
   ]
  },
  {
   "cell_type": "code",
   "execution_count": 15,
   "id": "4c5304e0",
   "metadata": {
    "execution": {
     "iopub.execute_input": "2023-03-06T15:24:37.226606Z",
     "iopub.status.busy": "2023-03-06T15:24:37.226187Z",
     "iopub.status.idle": "2023-03-06T15:24:37.640989Z",
     "shell.execute_reply": "2023-03-06T15:24:37.639893Z"
    },
    "papermill": {
     "duration": 0.431399,
     "end_time": "2023-03-06T15:24:37.644285",
     "exception": false,
     "start_time": "2023-03-06T15:24:37.212886",
     "status": "completed"
    },
    "tags": []
   },
   "outputs": [
    {
     "data": {
      "image/png": "[encoded data removed]",
      "text/plain": [
       "<Figure size 1400x800 with 1 Axes>"
      ]
     },
     "metadata": {},
     "output_type": "display_data"
    }
   ],
   "source": [
    "data['Condition'].value_counts().plot(kind='bar',\n",
    "                                    figsize=(14,8),\n",
    "                                    title=\"Medical Conditions v/s no. of drugs available\", color='c')\n",
    "pyplt.xticks(rotation = 45, ha = 'right')\n",
    "pyplt.show()\n"
   ]
  },
  {
   "cell_type": "markdown",
   "id": "bcee7adb",
   "metadata": {
    "papermill": {
     "duration": 0.013308,
     "end_time": "2023-03-06T15:24:37.672357",
     "exception": false,
     "start_time": "2023-03-06T15:24:37.659049",
     "status": "completed"
    },
    "tags": []
   },
   "source": [
    "> Which drug has maximum number of reviews?"
   ]
  },
  {
   "cell_type": "code",
   "execution_count": 16,
   "id": "f676d522",
   "metadata": {
    "execution": {
     "iopub.execute_input": "2023-03-06T15:24:37.703131Z",
     "iopub.status.busy": "2023-03-06T15:24:37.701603Z",
     "iopub.status.idle": "2023-03-06T15:24:37.712071Z",
     "shell.execute_reply": "2023-03-06T15:24:37.710712Z"
    },
    "papermill": {
     "duration": 0.028244,
     "end_time": "2023-03-06T15:24:37.714821",
     "exception": false,
     "start_time": "2023-03-06T15:24:37.686577",
     "status": "completed"
    },
    "tags": []
   },
   "outputs": [
    {
     "data": {
      "text/plain": [
       "654                                             Meropenem\n",
       "655                                           Tigecycline\n",
       "1210                                          Milnacipran\n",
       "1562    Bismuth Subg-Balsam-Znox-Resor, Starch, Pramox...\n",
       "Name: Drug, dtype: object"
      ]
     },
     "execution_count": 16,
     "metadata": {},
     "output_type": "execute_result"
    }
   ],
   "source": [
    "\n",
    "drugWithMaxReviews= data.loc[data['NoOfReviews']== data.NoOfReviews.max(),'Drug']\n",
    "drugWithMaxReviews\n",
    "\n"
   ]
  },
  {
   "cell_type": "code",
   "execution_count": null,
   "id": "557592c1",
   "metadata": {
    "papermill": {
     "duration": 0.013612,
     "end_time": "2023-03-06T15:24:37.742932",
     "exception": false,
     "start_time": "2023-03-06T15:24:37.729320",
     "status": "completed"
    },
    "tags": []
   },
   "outputs": [],
   "source": []
  },
  {
   "cell_type": "code",
   "execution_count": 17,
   "id": "df7cac97",
   "metadata": {
    "execution": {
     "iopub.execute_input": "2023-03-06T15:24:37.774410Z",
     "iopub.status.busy": "2023-03-06T15:24:37.772974Z",
     "iopub.status.idle": "2023-03-06T15:24:37.778636Z",
     "shell.execute_reply": "2023-03-06T15:24:37.777597Z"
    },
    "papermill": {
     "duration": 0.024046,
     "end_time": "2023-03-06T15:24:37.781163",
     "exception": false,
     "start_time": "2023-03-06T15:24:37.757117",
     "status": "completed"
    },
    "tags": []
   },
   "outputs": [],
   "source": [
    "\n",
    "# fig, ax1 = pyplt.subplots()\n",
    "# ax2=ax1.twinx()\n",
    "# ax1.scatter('EaseOfUse','Satisfaction',data=data,color='g')\n",
    "# print(type(ax1))\n",
    "# ax1.set_xlabel('Ease Of Use')\n",
    "# ax1.set_ylabel('Satisfaction',color='g')\n",
    "# ax2.set_ylabel('Effective',color='b')\n",
    "# ax2.scatter('EaseOfUse','Effective',data=data,color='b')\n",
    "\n",
    "# pyplt.xticks(rotation = 45, ha = 'right')\n",
    "# pyplt.show()"
   ]
  },
  {
   "cell_type": "code",
   "execution_count": null,
   "id": "73a55367",
   "metadata": {
    "papermill": {
     "duration": 0.013486,
     "end_time": "2023-03-06T15:24:37.808614",
     "exception": false,
     "start_time": "2023-03-06T15:24:37.795128",
     "status": "completed"
    },
    "tags": []
   },
   "outputs": [],
   "source": []
  },
  {
   "cell_type": "markdown",
   "id": "810dac53",
   "metadata": {
    "papermill": {
     "duration": 0.01346,
     "end_time": "2023-03-06T15:24:37.836000",
     "exception": false,
     "start_time": "2023-03-06T15:24:37.822540",
     "status": "completed"
    },
    "tags": []
   },
   "source": []
  },
  {
   "cell_type": "code",
   "execution_count": 18,
   "id": "32067cac",
   "metadata": {
    "execution": {
     "iopub.execute_input": "2023-03-06T15:24:37.867158Z",
     "iopub.status.busy": "2023-03-06T15:24:37.866298Z",
     "iopub.status.idle": "2023-03-06T15:24:37.885837Z",
     "shell.execute_reply": "2023-03-06T15:24:37.884899Z"
    },
    "papermill": {
     "duration": 0.038493,
     "end_time": "2023-03-06T15:24:37.888282",
     "exception": false,
     "start_time": "2023-03-06T15:24:37.849789",
     "status": "completed"
    },
    "tags": []
   },
   "outputs": [
    {
     "data": {
      "text/html": [
       "<div>\n",
       "<style scoped>\n",
       "    .dataframe tbody tr th:only-of-type {\n",
       "        vertical-align: middle;\n",
       "    }\n",
       "\n",
       "    .dataframe tbody tr th {\n",
       "        vertical-align: top;\n",
       "    }\n",
       "\n",
       "    .dataframe thead th {\n",
       "        text-align: right;\n",
       "    }\n",
       "</style>\n",
       "<table border=\"1\" class=\"dataframe\">\n",
       "  <thead>\n",
       "    <tr style=\"text-align: right;\">\n",
       "      <th></th>\n",
       "      <th>Condition</th>\n",
       "      <th>Drug</th>\n",
       "      <th>Type</th>\n",
       "      <th>Effective</th>\n",
       "      <th>EaseOfUse</th>\n",
       "      <th>Satisfaction</th>\n",
       "      <th>NoOfReviews</th>\n",
       "    </tr>\n",
       "  </thead>\n",
       "  <tbody>\n",
       "    <tr>\n",
       "      <th>40</th>\n",
       "      <td>Acute Bacterial Sinusitis</td>\n",
       "      <td>Moxifloxacin-Sod.Chloride(Iso)</td>\n",
       "      <td>RX</td>\n",
       "      <td>2.33</td>\n",
       "      <td>2.33</td>\n",
       "      <td>2.00</td>\n",
       "      <td>5</td>\n",
       "    </tr>\n",
       "    <tr>\n",
       "      <th>73</th>\n",
       "      <td>adenocarcinoma of pancreas</td>\n",
       "      <td>Mitomycin</td>\n",
       "      <td>RX</td>\n",
       "      <td>2.50</td>\n",
       "      <td>2.00</td>\n",
       "      <td>2.00</td>\n",
       "      <td>4</td>\n",
       "    </tr>\n",
       "    <tr>\n",
       "      <th>97</th>\n",
       "      <td>Atopic Dermatitis</td>\n",
       "      <td>Pimecrolimus</td>\n",
       "      <td>RX</td>\n",
       "      <td>3.26</td>\n",
       "      <td>4.14</td>\n",
       "      <td>3.17</td>\n",
       "      <td>79</td>\n",
       "    </tr>\n",
       "    <tr>\n",
       "      <th>117</th>\n",
       "      <td>Atopic Dermatitis</td>\n",
       "      <td>Hydrocortisone Butyr-Emollient</td>\n",
       "      <td>RX</td>\n",
       "      <td>4.57</td>\n",
       "      <td>4.86</td>\n",
       "      <td>4.43</td>\n",
       "      <td>31</td>\n",
       "    </tr>\n",
       "    <tr>\n",
       "      <th>126</th>\n",
       "      <td>Atopic Dermatitis</td>\n",
       "      <td>Vit E-Grape-Hyaluronate Sodium</td>\n",
       "      <td>RX</td>\n",
       "      <td>3.69</td>\n",
       "      <td>4.54</td>\n",
       "      <td>3.77</td>\n",
       "      <td>22</td>\n",
       "    </tr>\n",
       "    <tr>\n",
       "      <th>...</th>\n",
       "      <td>...</td>\n",
       "      <td>...</td>\n",
       "      <td>...</td>\n",
       "      <td>...</td>\n",
       "      <td>...</td>\n",
       "      <td>...</td>\n",
       "      <td>...</td>\n",
       "    </tr>\n",
       "    <tr>\n",
       "      <th>2003</th>\n",
       "      <td>Pharyngitis due to Streptococcus Pyogenes</td>\n",
       "      <td>Penicillin G Benzathin,Procain</td>\n",
       "      <td>RX</td>\n",
       "      <td>2.67</td>\n",
       "      <td>2.67</td>\n",
       "      <td>2.33</td>\n",
       "      <td>5</td>\n",
       "    </tr>\n",
       "    <tr>\n",
       "      <th>2078</th>\n",
       "      <td>scabies</td>\n",
       "      <td>Crotamiton</td>\n",
       "      <td>RX</td>\n",
       "      <td>4.00</td>\n",
       "      <td>4.33</td>\n",
       "      <td>3.50</td>\n",
       "      <td>10</td>\n",
       "    </tr>\n",
       "    <tr>\n",
       "      <th>2105</th>\n",
       "      <td>sore throat</td>\n",
       "      <td>DM-Benzocaine-Menthol</td>\n",
       "      <td>OTC</td>\n",
       "      <td>1.00</td>\n",
       "      <td>1.00</td>\n",
       "      <td>1.00</td>\n",
       "      <td>1</td>\n",
       "    </tr>\n",
       "    <tr>\n",
       "      <th>2117</th>\n",
       "      <td>vertigo</td>\n",
       "      <td>Diphenhydramine Citrate</td>\n",
       "      <td>OTC</td>\n",
       "      <td>4.30</td>\n",
       "      <td>4.60</td>\n",
       "      <td>4.10</td>\n",
       "      <td>17</td>\n",
       "    </tr>\n",
       "    <tr>\n",
       "      <th>2126</th>\n",
       "      <td>vertigo</td>\n",
       "      <td>Diphenhydramine Hcl, Diphenhydramine Citrate</td>\n",
       "      <td>OTC</td>\n",
       "      <td>3.50</td>\n",
       "      <td>4.00</td>\n",
       "      <td>3.50</td>\n",
       "      <td>6</td>\n",
       "    </tr>\n",
       "  </tbody>\n",
       "</table>\n",
       "<p>108 rows × 7 columns</p>\n",
       "</div>"
      ],
      "text/plain": [
       "                                      Condition  \\\n",
       "40                    Acute Bacterial Sinusitis   \n",
       "73                   adenocarcinoma of pancreas   \n",
       "97                            Atopic Dermatitis   \n",
       "117                           Atopic Dermatitis   \n",
       "126                           Atopic Dermatitis   \n",
       "...                                         ...   \n",
       "2003  Pharyngitis due to Streptococcus Pyogenes   \n",
       "2078                                    scabies   \n",
       "2105                                sore throat   \n",
       "2117                                    vertigo   \n",
       "2126                                    vertigo   \n",
       "\n",
       "                                              Drug Type  Effective  EaseOfUse  \\\n",
       "40                  Moxifloxacin-Sod.Chloride(Iso)   RX       2.33       2.33   \n",
       "73                                       Mitomycin   RX       2.50       2.00   \n",
       "97                                    Pimecrolimus   RX       3.26       4.14   \n",
       "117                 Hydrocortisone Butyr-Emollient   RX       4.57       4.86   \n",
       "126                 Vit E-Grape-Hyaluronate Sodium   RX       3.69       4.54   \n",
       "...                                            ...  ...        ...        ...   \n",
       "2003                Penicillin G Benzathin,Procain   RX       2.67       2.67   \n",
       "2078                                    Crotamiton   RX       4.00       4.33   \n",
       "2105                         DM-Benzocaine-Menthol  OTC       1.00       1.00   \n",
       "2117                       Diphenhydramine Citrate  OTC       4.30       4.60   \n",
       "2126  Diphenhydramine Hcl, Diphenhydramine Citrate  OTC       3.50       4.00   \n",
       "\n",
       "      Satisfaction NoOfReviews  \n",
       "40            2.00           5  \n",
       "73            2.00           4  \n",
       "97            3.17          79  \n",
       "117           4.43          31  \n",
       "126           3.77          22  \n",
       "...            ...         ...  \n",
       "2003          2.33           5  \n",
       "2078          3.50          10  \n",
       "2105          1.00           1  \n",
       "2117          4.10          17  \n",
       "2126          3.50           6  \n",
       "\n",
       "[108 rows x 7 columns]"
      ]
     },
     "execution_count": 18,
     "metadata": {},
     "output_type": "execute_result"
    }
   ],
   "source": [
    "data"
   ]
  },
  {
   "cell_type": "markdown",
   "id": "bcf3cdf8",
   "metadata": {
    "papermill": {
     "duration": 0.014491,
     "end_time": "2023-03-06T15:24:37.916995",
     "exception": false,
     "start_time": "2023-03-06T15:24:37.902504",
     "status": "completed"
    },
    "tags": []
   },
   "source": [
    "> Count the number of drugs for Prescription or Over THe Counter Drugs"
   ]
  },
  {
   "cell_type": "code",
   "execution_count": 19,
   "id": "fc4b3f03",
   "metadata": {
    "execution": {
     "iopub.execute_input": "2023-03-06T15:24:37.947609Z",
     "iopub.status.busy": "2023-03-06T15:24:37.946803Z",
     "iopub.status.idle": "2023-03-06T15:24:37.968261Z",
     "shell.execute_reply": "2023-03-06T15:24:37.966976Z"
    },
    "papermill": {
     "duration": 0.039716,
     "end_time": "2023-03-06T15:24:37.970665",
     "exception": false,
     "start_time": "2023-03-06T15:24:37.930949",
     "status": "completed"
    },
    "tags": []
   },
   "outputs": [
    {
     "name": "stdout",
     "output_type": "stream",
     "text": [
      "60 44\n"
     ]
    },
    {
     "data": {
      "text/html": [
       "<div>\n",
       "<style scoped>\n",
       "    .dataframe tbody tr th:only-of-type {\n",
       "        vertical-align: middle;\n",
       "    }\n",
       "\n",
       "    .dataframe tbody tr th {\n",
       "        vertical-align: top;\n",
       "    }\n",
       "\n",
       "    .dataframe thead th {\n",
       "        text-align: right;\n",
       "    }\n",
       "</style>\n",
       "<table border=\"1\" class=\"dataframe\">\n",
       "  <thead>\n",
       "    <tr style=\"text-align: right;\">\n",
       "      <th></th>\n",
       "      <th>RX</th>\n",
       "      <th>OTC</th>\n",
       "    </tr>\n",
       "  </thead>\n",
       "  <tbody>\n",
       "    <tr>\n",
       "      <th>0</th>\n",
       "      <td>60</td>\n",
       "      <td>44</td>\n",
       "    </tr>\n",
       "  </tbody>\n",
       "</table>\n",
       "</div>"
      ],
      "text/plain": [
       "   RX  OTC\n",
       "0  60   44"
      ]
     },
     "execution_count": 19,
     "metadata": {},
     "output_type": "execute_result"
    }
   ],
   "source": [
    "\n",
    "countRX = data.loc[data['Type']=='RX'].value_counts().sum()\n",
    "countOTC = data.loc[data['Type']=='OTC'].value_counts().sum()\n",
    "listDrugTypeCount = {'RX': countRX,'OTC':countOTC}\n",
    "print(countRX,countOTC)\n",
    "\n",
    "TypeOfDrug = pd.DataFrame(data=listDrugTypeCount,index = [0])\n",
    "TypeOfDrug"
   ]
  },
  {
   "cell_type": "markdown",
   "id": "c9049e53",
   "metadata": {
    "papermill": {
     "duration": 0.01427,
     "end_time": "2023-03-06T15:24:37.999452",
     "exception": false,
     "start_time": "2023-03-06T15:24:37.985182",
     "status": "completed"
    },
    "tags": []
   },
   "source": [
    "# We see that index values are not aligned since we dropped duplicates, hence we reset the index to maintain the order of the data"
   ]
  },
  {
   "cell_type": "code",
   "execution_count": 20,
   "id": "fba04d4c",
   "metadata": {
    "execution": {
     "iopub.execute_input": "2023-03-06T15:24:38.031194Z",
     "iopub.status.busy": "2023-03-06T15:24:38.030054Z",
     "iopub.status.idle": "2023-03-06T15:24:38.038046Z",
     "shell.execute_reply": "2023-03-06T15:24:38.036660Z"
    },
    "papermill": {
     "duration": 0.026474,
     "end_time": "2023-03-06T15:24:38.040611",
     "exception": false,
     "start_time": "2023-03-06T15:24:38.014137",
     "status": "completed"
    },
    "tags": []
   },
   "outputs": [
    {
     "data": {
      "text/plain": [
       "Int64Index([  40,   73,   97,  117,  126,  128,  141,  187,  203,  217,\n",
       "            ...\n",
       "            1864, 1866, 1882, 1899, 1987, 2003, 2078, 2105, 2117, 2126],\n",
       "           dtype='int64', length=108)"
      ]
     },
     "execution_count": 20,
     "metadata": {},
     "output_type": "execute_result"
    }
   ],
   "source": [
    "data.index"
   ]
  },
  {
   "cell_type": "code",
   "execution_count": 21,
   "id": "b5e54362",
   "metadata": {
    "execution": {
     "iopub.execute_input": "2023-03-06T15:24:38.072077Z",
     "iopub.status.busy": "2023-03-06T15:24:38.071493Z",
     "iopub.status.idle": "2023-03-06T15:24:38.095060Z",
     "shell.execute_reply": "2023-03-06T15:24:38.093772Z"
    },
    "papermill": {
     "duration": 0.042135,
     "end_time": "2023-03-06T15:24:38.097579",
     "exception": false,
     "start_time": "2023-03-06T15:24:38.055444",
     "status": "completed"
    },
    "tags": []
   },
   "outputs": [
    {
     "data": {
      "text/html": [
       "<div>\n",
       "<style scoped>\n",
       "    .dataframe tbody tr th:only-of-type {\n",
       "        vertical-align: middle;\n",
       "    }\n",
       "\n",
       "    .dataframe tbody tr th {\n",
       "        vertical-align: top;\n",
       "    }\n",
       "\n",
       "    .dataframe thead th {\n",
       "        text-align: right;\n",
       "    }\n",
       "</style>\n",
       "<table border=\"1\" class=\"dataframe\">\n",
       "  <thead>\n",
       "    <tr style=\"text-align: right;\">\n",
       "      <th></th>\n",
       "      <th>index</th>\n",
       "      <th>Condition</th>\n",
       "      <th>Drug</th>\n",
       "      <th>Type</th>\n",
       "      <th>Effective</th>\n",
       "      <th>EaseOfUse</th>\n",
       "      <th>Satisfaction</th>\n",
       "      <th>NoOfReviews</th>\n",
       "    </tr>\n",
       "  </thead>\n",
       "  <tbody>\n",
       "    <tr>\n",
       "      <th>0</th>\n",
       "      <td>40</td>\n",
       "      <td>Acute Bacterial Sinusitis</td>\n",
       "      <td>Moxifloxacin-Sod.Chloride(Iso)</td>\n",
       "      <td>RX</td>\n",
       "      <td>2.33</td>\n",
       "      <td>2.33</td>\n",
       "      <td>2.00</td>\n",
       "      <td>5</td>\n",
       "    </tr>\n",
       "    <tr>\n",
       "      <th>1</th>\n",
       "      <td>73</td>\n",
       "      <td>adenocarcinoma of pancreas</td>\n",
       "      <td>Mitomycin</td>\n",
       "      <td>RX</td>\n",
       "      <td>2.50</td>\n",
       "      <td>2.00</td>\n",
       "      <td>2.00</td>\n",
       "      <td>4</td>\n",
       "    </tr>\n",
       "    <tr>\n",
       "      <th>2</th>\n",
       "      <td>97</td>\n",
       "      <td>Atopic Dermatitis</td>\n",
       "      <td>Pimecrolimus</td>\n",
       "      <td>RX</td>\n",
       "      <td>3.26</td>\n",
       "      <td>4.14</td>\n",
       "      <td>3.17</td>\n",
       "      <td>79</td>\n",
       "    </tr>\n",
       "    <tr>\n",
       "      <th>3</th>\n",
       "      <td>117</td>\n",
       "      <td>Atopic Dermatitis</td>\n",
       "      <td>Hydrocortisone Butyr-Emollient</td>\n",
       "      <td>RX</td>\n",
       "      <td>4.57</td>\n",
       "      <td>4.86</td>\n",
       "      <td>4.43</td>\n",
       "      <td>31</td>\n",
       "    </tr>\n",
       "    <tr>\n",
       "      <th>4</th>\n",
       "      <td>126</td>\n",
       "      <td>Atopic Dermatitis</td>\n",
       "      <td>Vit E-Grape-Hyaluronate Sodium</td>\n",
       "      <td>RX</td>\n",
       "      <td>3.69</td>\n",
       "      <td>4.54</td>\n",
       "      <td>3.77</td>\n",
       "      <td>22</td>\n",
       "    </tr>\n",
       "    <tr>\n",
       "      <th>...</th>\n",
       "      <td>...</td>\n",
       "      <td>...</td>\n",
       "      <td>...</td>\n",
       "      <td>...</td>\n",
       "      <td>...</td>\n",
       "      <td>...</td>\n",
       "      <td>...</td>\n",
       "      <td>...</td>\n",
       "    </tr>\n",
       "    <tr>\n",
       "      <th>103</th>\n",
       "      <td>2003</td>\n",
       "      <td>Pharyngitis due to Streptococcus Pyogenes</td>\n",
       "      <td>Penicillin G Benzathin,Procain</td>\n",
       "      <td>RX</td>\n",
       "      <td>2.67</td>\n",
       "      <td>2.67</td>\n",
       "      <td>2.33</td>\n",
       "      <td>5</td>\n",
       "    </tr>\n",
       "    <tr>\n",
       "      <th>104</th>\n",
       "      <td>2078</td>\n",
       "      <td>scabies</td>\n",
       "      <td>Crotamiton</td>\n",
       "      <td>RX</td>\n",
       "      <td>4.00</td>\n",
       "      <td>4.33</td>\n",
       "      <td>3.50</td>\n",
       "      <td>10</td>\n",
       "    </tr>\n",
       "    <tr>\n",
       "      <th>105</th>\n",
       "      <td>2105</td>\n",
       "      <td>sore throat</td>\n",
       "      <td>DM-Benzocaine-Menthol</td>\n",
       "      <td>OTC</td>\n",
       "      <td>1.00</td>\n",
       "      <td>1.00</td>\n",
       "      <td>1.00</td>\n",
       "      <td>1</td>\n",
       "    </tr>\n",
       "    <tr>\n",
       "      <th>106</th>\n",
       "      <td>2117</td>\n",
       "      <td>vertigo</td>\n",
       "      <td>Diphenhydramine Citrate</td>\n",
       "      <td>OTC</td>\n",
       "      <td>4.30</td>\n",
       "      <td>4.60</td>\n",
       "      <td>4.10</td>\n",
       "      <td>17</td>\n",
       "    </tr>\n",
       "    <tr>\n",
       "      <th>107</th>\n",
       "      <td>2126</td>\n",
       "      <td>vertigo</td>\n",
       "      <td>Diphenhydramine Hcl, Diphenhydramine Citrate</td>\n",
       "      <td>OTC</td>\n",
       "      <td>3.50</td>\n",
       "      <td>4.00</td>\n",
       "      <td>3.50</td>\n",
       "      <td>6</td>\n",
       "    </tr>\n",
       "  </tbody>\n",
       "</table>\n",
       "<p>108 rows × 8 columns</p>\n",
       "</div>"
      ],
      "text/plain": [
       "     index                                  Condition  \\\n",
       "0       40                  Acute Bacterial Sinusitis   \n",
       "1       73                 adenocarcinoma of pancreas   \n",
       "2       97                          Atopic Dermatitis   \n",
       "3      117                          Atopic Dermatitis   \n",
       "4      126                          Atopic Dermatitis   \n",
       "..     ...                                        ...   \n",
       "103   2003  Pharyngitis due to Streptococcus Pyogenes   \n",
       "104   2078                                    scabies   \n",
       "105   2105                                sore throat   \n",
       "106   2117                                    vertigo   \n",
       "107   2126                                    vertigo   \n",
       "\n",
       "                                             Drug Type  Effective  EaseOfUse  \\\n",
       "0                  Moxifloxacin-Sod.Chloride(Iso)   RX       2.33       2.33   \n",
       "1                                       Mitomycin   RX       2.50       2.00   \n",
       "2                                    Pimecrolimus   RX       3.26       4.14   \n",
       "3                  Hydrocortisone Butyr-Emollient   RX       4.57       4.86   \n",
       "4                  Vit E-Grape-Hyaluronate Sodium   RX       3.69       4.54   \n",
       "..                                            ...  ...        ...        ...   \n",
       "103                Penicillin G Benzathin,Procain   RX       2.67       2.67   \n",
       "104                                    Crotamiton   RX       4.00       4.33   \n",
       "105                         DM-Benzocaine-Menthol  OTC       1.00       1.00   \n",
       "106                       Diphenhydramine Citrate  OTC       4.30       4.60   \n",
       "107  Diphenhydramine Hcl, Diphenhydramine Citrate  OTC       3.50       4.00   \n",
       "\n",
       "     Satisfaction NoOfReviews  \n",
       "0            2.00           5  \n",
       "1            2.00           4  \n",
       "2            3.17          79  \n",
       "3            4.43          31  \n",
       "4            3.77          22  \n",
       "..            ...         ...  \n",
       "103          2.33           5  \n",
       "104          3.50          10  \n",
       "105          1.00           1  \n",
       "106          4.10          17  \n",
       "107          3.50           6  \n",
       "\n",
       "[108 rows x 8 columns]"
      ]
     },
     "execution_count": 21,
     "metadata": {},
     "output_type": "execute_result"
    }
   ],
   "source": [
    "data.reset_index()"
   ]
  },
  {
   "cell_type": "markdown",
   "id": "803fec18",
   "metadata": {
    "papermill": {
     "duration": 0.014401,
     "end_time": "2023-03-06T15:24:38.126923",
     "exception": false,
     "start_time": "2023-03-06T15:24:38.112522",
     "status": "completed"
    },
    "tags": []
   },
   "source": [
    "> Checking for Outliers in the data"
   ]
  },
  {
   "cell_type": "code",
   "execution_count": 22,
   "id": "d7495197",
   "metadata": {
    "execution": {
     "iopub.execute_input": "2023-03-06T15:24:38.158799Z",
     "iopub.status.busy": "2023-03-06T15:24:38.158363Z",
     "iopub.status.idle": "2023-03-06T15:24:38.346341Z",
     "shell.execute_reply": "2023-03-06T15:24:38.344958Z"
    },
    "papermill": {
     "duration": 0.20765,
     "end_time": "2023-03-06T15:24:38.349271",
     "exception": false,
     "start_time": "2023-03-06T15:24:38.141621",
     "status": "completed"
    },
    "tags": []
   },
   "outputs": [
    {
     "data": {
      "image/png": "[encoded data removed]",
      "text/plain": [
       "<Figure size 640x480 with 1 Axes>"
      ]
     },
     "metadata": {},
     "output_type": "display_data"
    }
   ],
   "source": [
    "pyplt.scatter(data['Effective'],data['EaseOfUse'])\n",
    "pyplt.xlabel('Effective')\n",
    "pyplt.ylabel('EaseOfUse')\n",
    "pyplt.show()"
   ]
  },
  {
   "cell_type": "markdown",
   "id": "d5b0dc63",
   "metadata": {
    "papermill": {
     "duration": 0.015208,
     "end_time": "2023-03-06T15:24:38.380418",
     "exception": false,
     "start_time": "2023-03-06T15:24:38.365210",
     "status": "completed"
    },
    "tags": []
   },
   "source": [
    "# Correlational Analysis"
   ]
  },
  {
   "cell_type": "code",
   "execution_count": 23,
   "id": "470cb66a",
   "metadata": {
    "execution": {
     "iopub.execute_input": "2023-03-06T15:24:38.414174Z",
     "iopub.status.busy": "2023-03-06T15:24:38.412958Z",
     "iopub.status.idle": "2023-03-06T15:24:38.428117Z",
     "shell.execute_reply": "2023-03-06T15:24:38.426623Z"
    },
    "papermill": {
     "duration": 0.034982,
     "end_time": "2023-03-06T15:24:38.430742",
     "exception": false,
     "start_time": "2023-03-06T15:24:38.395760",
     "status": "completed"
    },
    "tags": []
   },
   "outputs": [
    {
     "data": {
      "text/html": [
       "<div>\n",
       "<style scoped>\n",
       "    .dataframe tbody tr th:only-of-type {\n",
       "        vertical-align: middle;\n",
       "    }\n",
       "\n",
       "    .dataframe tbody tr th {\n",
       "        vertical-align: top;\n",
       "    }\n",
       "\n",
       "    .dataframe thead th {\n",
       "        text-align: right;\n",
       "    }\n",
       "</style>\n",
       "<table border=\"1\" class=\"dataframe\">\n",
       "  <thead>\n",
       "    <tr style=\"text-align: right;\">\n",
       "      <th></th>\n",
       "      <th>Effective</th>\n",
       "      <th>EaseOfUse</th>\n",
       "      <th>Satisfaction</th>\n",
       "    </tr>\n",
       "  </thead>\n",
       "  <tbody>\n",
       "    <tr>\n",
       "      <th>Effective</th>\n",
       "      <td>1.000000</td>\n",
       "      <td>0.704707</td>\n",
       "      <td>0.901258</td>\n",
       "    </tr>\n",
       "    <tr>\n",
       "      <th>EaseOfUse</th>\n",
       "      <td>0.704707</td>\n",
       "      <td>1.000000</td>\n",
       "      <td>0.714407</td>\n",
       "    </tr>\n",
       "    <tr>\n",
       "      <th>Satisfaction</th>\n",
       "      <td>0.901258</td>\n",
       "      <td>0.714407</td>\n",
       "      <td>1.000000</td>\n",
       "    </tr>\n",
       "  </tbody>\n",
       "</table>\n",
       "</div>"
      ],
      "text/plain": [
       "              Effective  EaseOfUse  Satisfaction\n",
       "Effective      1.000000   0.704707      0.901258\n",
       "EaseOfUse      0.704707   1.000000      0.714407\n",
       "Satisfaction   0.901258   0.714407      1.000000"
      ]
     },
     "execution_count": 23,
     "metadata": {},
     "output_type": "execute_result"
    }
   ],
   "source": [
    "correlations = data.corr()\n",
    "correlations"
   ]
  },
  {
   "cell_type": "code",
   "execution_count": 24,
   "id": "632bfad9",
   "metadata": {
    "execution": {
     "iopub.execute_input": "2023-03-06T15:24:38.466737Z",
     "iopub.status.busy": "2023-03-06T15:24:38.466091Z",
     "iopub.status.idle": "2023-03-06T15:24:38.657876Z",
     "shell.execute_reply": "2023-03-06T15:24:38.656681Z"
    },
    "papermill": {
     "duration": 0.213707,
     "end_time": "2023-03-06T15:24:38.660513",
     "exception": false,
     "start_time": "2023-03-06T15:24:38.446806",
     "status": "completed"
    },
    "tags": []
   },
   "outputs": [
    {
     "data": {
      "image/png": "[encoded data removed]",
      "text/plain": [
       "<Figure size 640x480 with 2 Axes>"
      ]
     },
     "metadata": {},
     "output_type": "display_data"
    }
   ],
   "source": [
    "sns.heatmap(correlations)\n",
    "pyplt.show()"
   ]
  },
  {
   "cell_type": "markdown",
   "id": "b02a837d",
   "metadata": {
    "papermill": {
     "duration": 0.015334,
     "end_time": "2023-03-06T15:24:38.691652",
     "exception": false,
     "start_time": "2023-03-06T15:24:38.676318",
     "status": "completed"
    },
    "tags": []
   },
   "source": [
    "* It can be seen that there is a positive correlation between all the three factors. \n",
    "* Ease Of use does not correlate to a drug being satisfactory or effective, but on the other hand the drug can be deemed Effective if the effects are visible after its consumption. \n",
    "* We can see stronger correlation between Effective and Satisfaction of a drug as compared to any other correlations in the above heatmap. "
   ]
  }
 ],
 "metadata": {
  "kernelspec": {
   "display_name": "Python 3",
   "language": "python",
   "name": "python3"
  },
  "language_info": {
   "codemirror_mode": {
    "name": "ipython",
    "version": 3
   },
   "file_extension": ".py",
   "mimetype": "text/x-python",
   "name": "python",
   "nbconvert_exporter": "python",
   "pygments_lexer": "ipython3",
   "version": "3.7.12"
  },
  "papermill": {
   "default_parameters": {},
   "duration": 15.176601,
   "end_time": "2023-03-06T15:24:39.429788",
   "environment_variables": {},
   "exception": null,
   "input_path": "__notebook__.ipynb",
   "output_path": "__notebook__.ipynb",
   "parameters": {},
   "start_time": "2023-03-06T15:24:24.253187",
   "version": "2.4.0"
  }
 },
 "nbformat": 4,
 "nbformat_minor": 5
}
